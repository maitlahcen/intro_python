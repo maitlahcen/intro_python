{
 "cells": [
  {
   "cell_type": "markdown",
   "metadata": {
    "deletable": true,
    "editable": true
   },
   "source": [
    "# Introduction to Python for Scientific Computing - Exercises with Solutions"
   ]
  },
  {
   "cell_type": "markdown",
   "metadata": {
    "deletable": true,
    "editable": true
   },
   "source": [
    "In this notebook we provide suggested solutions to the practice exercises. You should compare these solutions to yours and if you have any questions send us an email or let us know during the last tutorial session."
   ]
  },
  {
   "cell_type": "code",
   "execution_count": 1,
   "metadata": {
    "collapsed": true,
    "deletable": true,
    "editable": true
   },
   "outputs": [],
   "source": [
    "import numpy as np\n",
    "import matplotlib.pyplot as plt\n",
    "%matplotlib inline"
   ]
  },
  {
   "cell_type": "markdown",
   "metadata": {
    "deletable": true,
    "editable": true
   },
   "source": [
    "## Exercise 1"
   ]
  },
  {
   "cell_type": "markdown",
   "metadata": {
    "deletable": true,
    "editable": true
   },
   "source": [
    "Write a code that approximates $\\pi$ by computing the sum:\n",
    "$$\n",
    "\\pi \\sim 4 \\sum_{k=0}^n \\frac{(-1)^k}{2 k +1}\n",
    "$$\n",
    "\n",
    "Compute the approximation error for different values of n (e.g. 100, 1'000, 10'000) by comparing the result with the Python $\\pi$ function."
   ]
  },
  {
   "cell_type": "markdown",
   "metadata": {
    "deletable": true,
    "editable": true
   },
   "source": [
    "### Solution"
   ]
  },
  {
   "cell_type": "markdown",
   "metadata": {
    "deletable": true,
    "editable": true
   },
   "source": [
    "We can write a function that takes $n$ as argument and returns the approximation of $\\pi$ according to the formula above:"
   ]
  },
  {
   "cell_type": "code",
   "execution_count": 2,
   "metadata": {
    "collapsed": true,
    "deletable": true,
    "editable": true
   },
   "outputs": [],
   "source": [
    "def approx_pi(n):\n",
    "    \n",
    "    s = 0\n",
    "    \n",
    "    for k in range(n+1):\n",
    "        s = s + ((-1) ** k) / (2 * k + 1)\n",
    "    \n",
    "    pi = 4 * s\n",
    "    \n",
    "    return pi"
   ]
  },
  {
   "cell_type": "markdown",
   "metadata": {
    "deletable": true,
    "editable": true
   },
   "source": [
    "Next, we compute the approximation error by comparing the result of the function against the value of $\\pi$ provided by Numpy:"
   ]
  },
  {
   "cell_type": "code",
   "execution_count": 3,
   "metadata": {
    "collapsed": false,
    "deletable": true,
    "editable": true
   },
   "outputs": [
    {
     "name": "stdout",
     "output_type": "stream",
     "text": [
      "0.009900747481198291\n",
      "0.0009990007497511222\n",
      "9.99900007414567e-05\n"
     ]
    }
   ],
   "source": [
    "for n in [100,1000,10000]:\n",
    "    print(approx_pi(n) - np.pi)"
   ]
  },
  {
   "cell_type": "markdown",
   "metadata": {
    "deletable": true,
    "editable": true
   },
   "source": [
    "## Exercise 2"
   ]
  },
  {
   "cell_type": "markdown",
   "metadata": {
    "deletable": true,
    "editable": true
   },
   "source": [
    "Consider the polynomial:\n",
    "$$\n",
    "p(x) = a_0 + a_1 x + a_2 x^2 + ... + a_n x^n = \\sum_{k=0}^n a_k x^k\n",
    "$$\n",
    "\n",
    "Write a **function** `p(x, coeff)` that takes $x$ and a list of coefficients $\\{a_0, a_1,...,a_n\\}$ as inputs and returns the value $p(x)$ defined above.\n",
    "\n",
    "Hint: you can use the function `enumerate()`."
   ]
  },
  {
   "cell_type": "markdown",
   "metadata": {
    "deletable": true,
    "editable": true
   },
   "source": [
    "### Solution"
   ]
  },
  {
   "cell_type": "markdown",
   "metadata": {
    "deletable": true,
    "editable": true
   },
   "source": [
    "Two solutions are suggested below. The first uses a standard for loop while the second uses a list comprehension inside `sum()`. Since the second solution stands on one line we can put it inside an anonymous function:"
   ]
  },
  {
   "cell_type": "code",
   "execution_count": 4,
   "metadata": {
    "collapsed": true,
    "deletable": true,
    "editable": true
   },
   "outputs": [],
   "source": [
    "def p1(x, coeff):\n",
    "    \n",
    "    p = 0\n",
    "    \n",
    "    for k, a in enumerate(coeff):\n",
    "        p = p + a * x ** k\n",
    "    \n",
    "    return p    "
   ]
  },
  {
   "cell_type": "code",
   "execution_count": 5,
   "metadata": {
    "collapsed": true,
    "deletable": true,
    "editable": true
   },
   "outputs": [],
   "source": [
    "p2 = lambda x, coeff: sum([a * x ** k for k,a in enumerate(coeff)])"
   ]
  },
  {
   "cell_type": "code",
   "execution_count": 6,
   "metadata": {
    "collapsed": false,
    "deletable": true,
    "editable": true
   },
   "outputs": [
    {
     "name": "stdout",
     "output_type": "stream",
     "text": [
      "11\n",
      "11\n"
     ]
    }
   ],
   "source": [
    "coeff = [1,2]\n",
    "\n",
    "print(p1(5,coeff))\n",
    "print(p2(5,coeff))"
   ]
  },
  {
   "cell_type": "markdown",
   "metadata": {
    "deletable": true,
    "editable": true
   },
   "source": [
    "## Exercise 3"
   ]
  },
  {
   "cell_type": "markdown",
   "metadata": {
    "deletable": true,
    "editable": true
   },
   "source": [
    "Create a Numpy array $A$ whose elements are the first 1'000 integers in backward order i.e. `A[0] = 999; A[1] = 998;` etc. \n",
    "\n",
    "Now, by slicing $A$ create an array $B$ such that\n",
    "* its first elements corresponds to the elements of $A$ ranging from 2 to 500 with an increment of 5\n",
    "* its last elements corresponds to all the other elements of $A$ (i.e. 501 onward) except for the last one."
   ]
  },
  {
   "cell_type": "markdown",
   "metadata": {
    "deletable": true,
    "editable": true
   },
   "source": [
    "### Solution"
   ]
  },
  {
   "cell_type": "code",
   "execution_count": 7,
   "metadata": {
    "collapsed": false,
    "deletable": true,
    "editable": true
   },
   "outputs": [],
   "source": [
    "A = np.arange(0,1000)[::-1]\n",
    "B = np.concatenate((A[2:500:5],A[501:-1]))"
   ]
  },
  {
   "cell_type": "markdown",
   "metadata": {
    "deletable": true,
    "editable": true
   },
   "source": [
    "## Exercise 4"
   ]
  },
  {
   "cell_type": "markdown",
   "metadata": {
    "deletable": true,
    "editable": true
   },
   "source": [
    "How can you simplify the following nested conditional statements?"
   ]
  },
  {
   "cell_type": "code",
   "execution_count": 8,
   "metadata": {
    "collapsed": false,
    "deletable": true,
    "editable": true
   },
   "outputs": [
    {
     "name": "stdout",
     "output_type": "stream",
     "text": [
      "Lost it\n"
     ]
    }
   ],
   "source": [
    "a = np.random.randn()\n",
    "\n",
    "if a > -0.5:\n",
    "    if a < 0.5:\n",
    "        print(\"Got it\")\n",
    "    else:\n",
    "        print(\"Lost it\")\n",
    "else:\n",
    "    print(\"Lost it\")"
   ]
  },
  {
   "cell_type": "markdown",
   "metadata": {
    "deletable": true,
    "editable": true
   },
   "source": [
    "### Solution"
   ]
  },
  {
   "cell_type": "code",
   "execution_count": 9,
   "metadata": {
    "collapsed": false,
    "deletable": true,
    "editable": true
   },
   "outputs": [
    {
     "name": "stdout",
     "output_type": "stream",
     "text": [
      "Got it\n"
     ]
    }
   ],
   "source": [
    "a = np.random.randn()\n",
    "\n",
    "if 0.5 > a > -0.5:\n",
    "    print(\"Got it\")\n",
    "else:\n",
    "    print(\"Lost it\")"
   ]
  },
  {
   "cell_type": "markdown",
   "metadata": {
    "deletable": true,
    "editable": true
   },
   "source": [
    "## Exercise 5"
   ]
  },
  {
   "cell_type": "markdown",
   "metadata": {
    "deletable": true,
    "editable": true
   },
   "source": [
    "Write a nested `for` loop to visit all elements of the following nested list:"
   ]
  },
  {
   "cell_type": "code",
   "execution_count": 10,
   "metadata": {
    "collapsed": true,
    "deletable": true,
    "editable": true
   },
   "outputs": [],
   "source": [
    "l = [[\"a\", \"b\", \"c\"], [\"d\", \"e\", \"f\"], [\"g\", \"h\"]]"
   ]
  },
  {
   "cell_type": "code",
   "execution_count": 11,
   "metadata": {
    "collapsed": false,
    "deletable": true,
    "editable": true
   },
   "outputs": [
    {
     "name": "stdout",
     "output_type": "stream",
     "text": [
      "a\n",
      "b\n",
      "c\n",
      "d\n",
      "e\n",
      "f\n",
      "g\n",
      "h\n"
     ]
    }
   ],
   "source": [
    "for i in l: \n",
    "    for j in range(len(i)):\n",
    "        print(i[j])"
   ]
  },
  {
   "cell_type": "markdown",
   "metadata": {
    "deletable": true,
    "editable": true
   },
   "source": [
    "## Exercise 6"
   ]
  },
  {
   "cell_type": "markdown",
   "metadata": {
    "deletable": true,
    "editable": true
   },
   "source": [
    "Rewrite the nested list comprehension `q` by using a standard `for` loop instead:"
   ]
  },
  {
   "cell_type": "code",
   "execution_count": 12,
   "metadata": {
    "collapsed": true,
    "deletable": true,
    "editable": true
   },
   "outputs": [],
   "source": [
    "l = [r**2 for r in [10**i for i in range(5)]]"
   ]
  },
  {
   "cell_type": "markdown",
   "metadata": {
    "deletable": true,
    "editable": true
   },
   "source": [
    "### Solution"
   ]
  },
  {
   "cell_type": "code",
   "execution_count": 13,
   "metadata": {
    "collapsed": false,
    "deletable": true,
    "editable": true
   },
   "outputs": [
    {
     "name": "stdout",
     "output_type": "stream",
     "text": [
      "[1, 100, 10000, 1000000, 100000000]\n"
     ]
    }
   ],
   "source": [
    "l = []\n",
    "\n",
    "for i in range(5):\n",
    "    x = (10 ** i) ** 2\n",
    "    l.append(x)\n",
    "\n",
    "print(l)"
   ]
  },
  {
   "cell_type": "markdown",
   "metadata": {
    "deletable": true,
    "editable": true
   },
   "source": [
    "## Exercise 7"
   ]
  },
  {
   "cell_type": "markdown",
   "metadata": {
    "deletable": true,
    "editable": true
   },
   "source": [
    "Create a function that takes as arguments a 1d array $x$ and parameters $\\mu$ and $\\sigma$ and returns the corresponding values of the one-dimensional Gaussian distribution function $g(x)$: \n",
    "$$\n",
    "g(x) = \\frac{1}{\\sqrt{2 \\pi \\sigma^2}} \\exp \\left(- \\frac{(x-\\mu)^2}{2\\sigma^2} \\right)\n",
    "$$\n",
    "\n",
    "Use a loop to plot $g(x)$ for different values of $\\mu$ and $\\sigma$ on the same figure."
   ]
  },
  {
   "cell_type": "markdown",
   "metadata": {},
   "source": [
    "### Solution"
   ]
  },
  {
   "cell_type": "code",
   "execution_count": 14,
   "metadata": {
    "collapsed": true,
    "deletable": true,
    "editable": true
   },
   "outputs": [],
   "source": [
    "def g(x,mu,sigma2):\n",
    "    \n",
    "    g = (1 / (np.sqrt(2 * np.pi * sigma2))) * np.exp(-((x - mu) ** 2 / (2 * (sigma2))))\n",
    "    \n",
    "    return g"
   ]
  },
  {
   "cell_type": "code",
   "execution_count": 15,
   "metadata": {
    "collapsed": false,
    "deletable": true,
    "editable": true
   },
   "outputs": [
    {
     "data": {
      "image/png": "[encoded data removed]",
      "text/plain": [
       "<matplotlib.figure.Figure at 0x7b36f60>"
      ]
     },
     "metadata": {},
     "output_type": "display_data"
    }
   ],
   "source": [
    "x = np.linspace(-5,5,1000)\n",
    "\n",
    "plt.figure(figsize=(12, 8))\n",
    "\n",
    "for sigma2 in [0.2,0.5,1,5]:\n",
    "    plt.plot(x,g(x,0,sigma2),label=r'$\\mu = 0, \\sigma^2 = %s$'%sigma2)\n",
    "\n",
    "plt.legend(loc='best')\n",
    "plt.show()"
   ]
  }
 ],
 "metadata": {
  "kernelspec": {
   "display_name": "Python [conda root]",
   "language": "python",
   "name": "conda-root-py"
  },
  "language_info": {
   "codemirror_mode": {
    "name": "ipython",
    "version": 3
   },
   "file_extension": ".py",
   "mimetype": "text/x-python",
   "name": "python",
   "nbconvert_exporter": "python",
   "pygments_lexer": "ipython3",
   "version": "3.5.2"
  }
 },
 "nbformat": 4,
 "nbformat_minor": 2
}
