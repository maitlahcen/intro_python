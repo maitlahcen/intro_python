{
 "cells": [
  {
   "cell_type": "markdown",
   "metadata": {},
   "source": [
    "# Introduction to Python for Scientific Computing - Tutorial n°3"
   ]
  },
  {
   "cell_type": "markdown",
   "metadata": {},
   "source": [
    "***Mohammed Ait Lahcen, Economic Theory Group, Faculty of Business and Economics, University of Basel***"
   ]
  },
  {
   "cell_type": "markdown",
   "metadata": {},
   "source": [
    "In this tutorial we take a look at three of the most important scientific packages in Python: NumPy, Matplotlib and Scipy.\n",
    "\n",
    "For a more detailed introduction to Python for scientific computing you can refer to the lectures available at [QuantEcon.org](https://lectures.quantecon.org/py/learning_python.html)."
   ]
  },
  {
   "cell_type": "markdown",
   "metadata": {},
   "source": [
    "## Import statements and packages"
   ]
  },
  {
   "cell_type": "markdown",
   "metadata": {},
   "source": [
    "Since Python is a general purpose language, the core language is quite small for practical reasons (easier maintainance and learning). Most of the \"advanced\" functionalities are created by developers as separate packages (also  called modules or libraries) that must be installed and imported in order to be used. This is in particular the case for scientific computing in Python."
   ]
  },
  {
   "cell_type": "markdown",
   "metadata": {},
   "source": [
    "For example, you can import the Numpy package by writing:"
   ]
  },
  {
   "cell_type": "code",
   "execution_count": 1,
   "metadata": {},
   "outputs": [
    {
     "data": {
      "text/plain": [
       "4.0"
      ]
     },
     "execution_count": 1,
     "metadata": {},
     "output_type": "execute_result"
    }
   ],
   "source": [
    "import numpy\n",
    "\n",
    "numpy.sqrt(16)"
   ]
  },
  {
   "cell_type": "markdown",
   "metadata": {},
   "source": [
    "The next way of doing is the \"standard\" way:"
   ]
  },
  {
   "cell_type": "code",
   "execution_count": 2,
   "metadata": {},
   "outputs": [
    {
     "data": {
      "text/plain": [
       "4.0"
      ]
     },
     "execution_count": 2,
     "metadata": {},
     "output_type": "execute_result"
    }
   ],
   "source": [
    "import numpy as np\n",
    "\n",
    "np.sqrt(16)"
   ]
  },
  {
   "cell_type": "markdown",
   "metadata": {},
   "source": [
    "Another way of importing the `sqrt` function could be:"
   ]
  },
  {
   "cell_type": "code",
   "execution_count": 3,
   "metadata": {},
   "outputs": [
    {
     "data": {
      "text/plain": [
       "4.0"
      ]
     },
     "execution_count": 3,
     "metadata": {},
     "output_type": "execute_result"
    }
   ],
   "source": [
    "from numpy import sqrt\n",
    "\n",
    "sqrt(16)"
   ]
  },
  {
   "cell_type": "markdown",
   "metadata": {},
   "source": [
    "The advantage of the third method is less typing if `sqrt` is used often in the code. However, in a long program, it’s hard for the reader to know which package the function `sqrt` has been imported from. This can be important if similarly named functions are available from several packages.\n",
    "\n",
    "Using `*` instead of `sqrt` will import all of the content of Numpy. It is highly recommended to avoid doing this because it imports lots of variable names which can be a potential source of conflict."
   ]
  },
  {
   "cell_type": "markdown",
   "metadata": {},
   "source": [
    "## Numpy"
   ]
  },
  {
   "cell_type": "markdown",
   "metadata": {},
   "source": [
    "Numpy is the fundamental package for scientific computing with Python. It offers a powerful N-dimensional array object,     sophisticated array operations and functions, tools for integrating C/C++ and Fortran code, useful linear algebra, Fourier transform, and random number capabilities.\n",
    "\n",
    "We start by importing Numpy into the `global` namespace (if it's not aleady there):"
   ]
  },
  {
   "cell_type": "code",
   "execution_count": 4,
   "metadata": {},
   "outputs": [],
   "source": [
    "import numpy as np"
   ]
  },
  {
   "cell_type": "markdown",
   "metadata": {},
   "source": [
    "### Math with Numpy"
   ]
  },
  {
   "cell_type": "markdown",
   "metadata": {},
   "source": [
    "Numpy offers a set of highly optimized standard math functions:"
   ]
  },
  {
   "cell_type": "code",
   "execution_count": 5,
   "metadata": {},
   "outputs": [
    {
     "data": {
      "text/plain": [
       "148.4131591025766"
      ]
     },
     "execution_count": 5,
     "metadata": {},
     "output_type": "execute_result"
    }
   ],
   "source": [
    "x = 5\n",
    "\n",
    "np.exp(x)"
   ]
  },
  {
   "cell_type": "code",
   "execution_count": 6,
   "metadata": {},
   "outputs": [
    {
     "data": {
      "text/plain": [
       "3"
      ]
     },
     "execution_count": 6,
     "metadata": {},
     "output_type": "execute_result"
    }
   ],
   "source": [
    "y = -3\n",
    "\n",
    "np.abs(y)"
   ]
  },
  {
   "cell_type": "code",
   "execution_count": 7,
   "metadata": {},
   "outputs": [
    {
     "data": {
      "text/plain": [
       "3.141592653589793"
      ]
     },
     "execution_count": 7,
     "metadata": {},
     "output_type": "execute_result"
    }
   ],
   "source": [
    "np.pi"
   ]
  },
  {
   "cell_type": "code",
   "execution_count": 8,
   "metadata": {},
   "outputs": [
    {
     "data": {
      "text/plain": [
       "2.718281828459045"
      ]
     },
     "execution_count": 8,
     "metadata": {},
     "output_type": "execute_result"
    }
   ],
   "source": [
    "np.e"
   ]
  },
  {
   "cell_type": "markdown",
   "metadata": {},
   "source": [
    "### Arrays"
   ]
  },
  {
   "cell_type": "markdown",
   "metadata": {},
   "source": [
    "Numpy’s main object is the homogeneous multidimensional array `numpy.ndarray`. An array is a table of elements (usually numbers), **all of the same type**, indexed by a tuple of positive integers. In Numpy dimensions are called axes. The number of axes is called rank.\n",
    "\n",
    "Numpy arrays are less flexible but much more memory efficient and faster to access compared to Python lists."
   ]
  },
  {
   "cell_type": "code",
   "execution_count": 9,
   "metadata": {},
   "outputs": [
    {
     "data": {
      "text/plain": [
       "array([0., 0., 0.])"
      ]
     },
     "execution_count": 9,
     "metadata": {},
     "output_type": "execute_result"
    }
   ],
   "source": [
    "a = np.zeros(3)\n",
    "a              "
   ]
  },
  {
   "cell_type": "code",
   "execution_count": 10,
   "metadata": {},
   "outputs": [
    {
     "data": {
      "text/plain": [
       "numpy.ndarray"
      ]
     },
     "execution_count": 10,
     "metadata": {},
     "output_type": "execute_result"
    }
   ],
   "source": [
    "type(a)"
   ]
  },
  {
   "cell_type": "markdown",
   "metadata": {},
   "source": [
    "The most important attributes of an `ndarray` object are:\n",
    "* `ndarray.dtype` : data type of the elements in the array.\n",
    "* `ndarray.ndim` : the number of axes (dimensions) of the array. \n",
    "* `ndarray.shape` : the dimensions or rank of the array (size of the array in each dimension).\n",
    "* `ndarray.size` : the total number of elements of the array.\n",
    "\n",
    "One-dimensional arrays are printed as rows, bidimensionals as matrices and tridimensionals as lists of matrices..."
   ]
  },
  {
   "cell_type": "code",
   "execution_count": 11,
   "metadata": {},
   "outputs": [
    {
     "data": {
      "text/plain": [
       "array([ 0,  1,  2,  3,  4,  5,  6,  7,  8,  9, 10, 11, 12, 13, 14])"
      ]
     },
     "execution_count": 11,
     "metadata": {},
     "output_type": "execute_result"
    }
   ],
   "source": [
    "a = np.arange(15)\n",
    "a"
   ]
  },
  {
   "cell_type": "code",
   "execution_count": 12,
   "metadata": {},
   "outputs": [
    {
     "data": {
      "text/plain": [
       "dtype('int32')"
      ]
     },
     "execution_count": 12,
     "metadata": {},
     "output_type": "execute_result"
    }
   ],
   "source": [
    "a.dtype"
   ]
  },
  {
   "cell_type": "code",
   "execution_count": 13,
   "metadata": {},
   "outputs": [
    {
     "data": {
      "text/plain": [
       "array([[ 0,  1,  2,  3,  4],\n",
       "       [ 5,  6,  7,  8,  9],\n",
       "       [10, 11, 12, 13, 14]])"
      ]
     },
     "execution_count": 13,
     "metadata": {},
     "output_type": "execute_result"
    }
   ],
   "source": [
    "a = a.reshape(3, 5)\n",
    "a"
   ]
  },
  {
   "cell_type": "code",
   "execution_count": 14,
   "metadata": {},
   "outputs": [
    {
     "data": {
      "text/plain": [
       "(3, 5)"
      ]
     },
     "execution_count": 14,
     "metadata": {},
     "output_type": "execute_result"
    }
   ],
   "source": [
    "a.shape"
   ]
  },
  {
   "cell_type": "code",
   "execution_count": 15,
   "metadata": {},
   "outputs": [
    {
     "data": {
      "text/plain": [
       "2"
      ]
     },
     "execution_count": 15,
     "metadata": {},
     "output_type": "execute_result"
    }
   ],
   "source": [
    "a.ndim"
   ]
  },
  {
   "cell_type": "code",
   "execution_count": 16,
   "metadata": {},
   "outputs": [
    {
     "data": {
      "text/plain": [
       "15"
      ]
     },
     "execution_count": 16,
     "metadata": {},
     "output_type": "execute_result"
    }
   ],
   "source": [
    "a.size"
   ]
  },
  {
   "cell_type": "code",
   "execution_count": 17,
   "metadata": {},
   "outputs": [
    {
     "data": {
      "text/plain": [
       "3"
      ]
     },
     "execution_count": 17,
     "metadata": {},
     "output_type": "execute_result"
    }
   ],
   "source": [
    "len(a)"
   ]
  },
  {
   "cell_type": "markdown",
   "metadata": {},
   "source": [
    "### Array creation"
   ]
  },
  {
   "cell_type": "markdown",
   "metadata": {},
   "source": [
    "There are several ways to create arrays. You can create an empty array:"
   ]
  },
  {
   "cell_type": "code",
   "execution_count": 18,
   "metadata": {},
   "outputs": [
    {
     "data": {
      "text/plain": [
       "array([0.00000000e+000, 6.95311186e-310, 1.48219694e-323,             nan,\n",
       "       5.34041153e-307])"
      ]
     },
     "execution_count": 18,
     "metadata": {},
     "output_type": "execute_result"
    }
   ],
   "source": [
    "a = np.empty(5)\n",
    "a"
   ]
  },
  {
   "cell_type": "markdown",
   "metadata": {},
   "source": [
    "You can also create a regular grid:"
   ]
  },
  {
   "cell_type": "code",
   "execution_count": 19,
   "metadata": {},
   "outputs": [
    {
     "data": {
      "text/plain": [
       "array([-1. , -0.8, -0.6, -0.4, -0.2,  0. ,  0.2,  0.4,  0.6,  0.8,  1. ])"
      ]
     },
     "execution_count": 19,
     "metadata": {},
     "output_type": "execute_result"
    }
   ],
   "source": [
    "a = np.linspace(-1,1,11)  # Specifies the grid size\n",
    "a"
   ]
  },
  {
   "cell_type": "code",
   "execution_count": 20,
   "metadata": {},
   "outputs": [
    {
     "data": {
      "text/plain": [
       "array([-1.00000000e+00, -8.00000000e-01, -6.00000000e-01, -4.00000000e-01,\n",
       "       -2.00000000e-01, -2.22044605e-16,  2.00000000e-01,  4.00000000e-01,\n",
       "        6.00000000e-01,  8.00000000e-01])"
      ]
     },
     "execution_count": 20,
     "metadata": {},
     "output_type": "execute_result"
    }
   ],
   "source": [
    "a = np.arange(-1,1,0.2)  # Specifies the grid step, excludes the upper bound\n",
    "a"
   ]
  },
  {
   "cell_type": "markdown",
   "metadata": {},
   "source": [
    "You can also create arrays of zeros or ones:"
   ]
  },
  {
   "cell_type": "code",
   "execution_count": 21,
   "metadata": {},
   "outputs": [
    {
     "data": {
      "text/plain": [
       "array([1., 1., 1.])"
      ]
     },
     "execution_count": 21,
     "metadata": {},
     "output_type": "execute_result"
    }
   ],
   "source": [
    "a = np.ones(3)\n",
    "a"
   ]
  },
  {
   "cell_type": "code",
   "execution_count": 22,
   "metadata": {},
   "outputs": [
    {
     "data": {
      "text/plain": [
       "array([[1., 0., 0.],\n",
       "       [0., 1., 0.],\n",
       "       [0., 0., 1.]])"
      ]
     },
     "execution_count": 22,
     "metadata": {},
     "output_type": "execute_result"
    }
   ],
   "source": [
    "a = np.identity(3)\n",
    "a"
   ]
  },
  {
   "cell_type": "markdown",
   "metadata": {},
   "source": [
    "and arrays of random numbers:"
   ]
  },
  {
   "cell_type": "code",
   "execution_count": 23,
   "metadata": {},
   "outputs": [
    {
     "data": {
      "text/plain": [
       "array([[0.79961152, 0.45606796],\n",
       "       [0.41030638, 0.16802722],\n",
       "       [0.65638152, 0.93569703]])"
      ]
     },
     "execution_count": 23,
     "metadata": {},
     "output_type": "execute_result"
    }
   ],
   "source": [
    "a = np.random.rand(3,2)\n",
    "a"
   ]
  },
  {
   "cell_type": "markdown",
   "metadata": {},
   "source": [
    "NumPy arrays can be made from regular Python sequences (lists or tuples). `np.array` transforms sequences of sequences into two-dimensional arrays, sequences of sequences of sequences into three-dimensional arrays, and so on."
   ]
  },
  {
   "cell_type": "code",
   "execution_count": 24,
   "metadata": {},
   "outputs": [
    {
     "data": {
      "text/plain": [
       "array([[1, 2, 3],\n",
       "       [4, 5, 6]])"
      ]
     },
     "execution_count": 24,
     "metadata": {},
     "output_type": "execute_result"
    }
   ],
   "source": [
    "b = np.array([[1,2,3], [4,5,6]])\n",
    "b"
   ]
  },
  {
   "cell_type": "markdown",
   "metadata": {},
   "source": [
    "`np.array` accepts a single list (of lists) of numbers as an argument and not multiple numeric arguments:"
   ]
  },
  {
   "cell_type": "code",
   "execution_count": 79,
   "metadata": {},
   "outputs": [
    {
     "ename": "ValueError",
     "evalue": "only 2 non-keyword arguments accepted",
     "output_type": "error",
     "traceback": [
      "\u001b[1;31m---------------------------------------------------------------------------\u001b[0m",
      "\u001b[1;31mValueError\u001b[0m                                Traceback (most recent call last)",
      "\u001b[1;32m<ipython-input-79-80cadcf31d2c>\u001b[0m in \u001b[0;36m<module>\u001b[1;34m\u001b[0m\n\u001b[1;32m----> 1\u001b[1;33m \u001b[0ma\u001b[0m \u001b[1;33m=\u001b[0m \u001b[0mnp\u001b[0m\u001b[1;33m.\u001b[0m\u001b[0marray\u001b[0m\u001b[1;33m(\u001b[0m\u001b[1;36m1\u001b[0m\u001b[1;33m,\u001b[0m\u001b[1;36m2\u001b[0m\u001b[1;33m,\u001b[0m\u001b[1;36m3\u001b[0m\u001b[1;33m,\u001b[0m\u001b[1;36m4\u001b[0m\u001b[1;33m)\u001b[0m    \u001b[1;31m# WRONG\u001b[0m\u001b[1;33m\u001b[0m\u001b[1;33m\u001b[0m\u001b[0m\n\u001b[0m\u001b[0;32m      2\u001b[0m \u001b[0ma\u001b[0m\u001b[1;33m\u001b[0m\u001b[1;33m\u001b[0m\u001b[0m\n",
      "\u001b[1;31mValueError\u001b[0m: only 2 non-keyword arguments accepted"
     ]
    }
   ],
   "source": [
    "a = np.array(1,2,3,4)    # WRONG\n",
    "a"
   ]
  },
  {
   "cell_type": "code",
   "execution_count": 25,
   "metadata": {},
   "outputs": [
    {
     "data": {
      "text/plain": [
       "array([1, 2, 3, 4])"
      ]
     },
     "execution_count": 25,
     "metadata": {},
     "output_type": "execute_result"
    }
   ],
   "source": [
    "a = np.array([1,2,3,4])  # RIGHT\n",
    "a"
   ]
  },
  {
   "cell_type": "markdown",
   "metadata": {},
   "source": [
    "### Array indexing"
   ]
  },
  {
   "cell_type": "code",
   "execution_count": 26,
   "metadata": {},
   "outputs": [
    {
     "data": {
      "text/plain": [
       "array([1., 2., 3., 4., 5.])"
      ]
     },
     "execution_count": 26,
     "metadata": {},
     "output_type": "execute_result"
    }
   ],
   "source": [
    "a = np.linspace(1,5,5)\n",
    "a"
   ]
  },
  {
   "cell_type": "markdown",
   "metadata": {},
   "source": [
    "One-dimensional array indexing is similar to list indexing:"
   ]
  },
  {
   "cell_type": "code",
   "execution_count": 27,
   "metadata": {},
   "outputs": [
    {
     "data": {
      "text/plain": [
       "1.0"
      ]
     },
     "execution_count": 27,
     "metadata": {},
     "output_type": "execute_result"
    }
   ],
   "source": [
    "a[0]"
   ]
  },
  {
   "cell_type": "markdown",
   "metadata": {},
   "source": [
    "To access the last element use"
   ]
  },
  {
   "cell_type": "code",
   "execution_count": 28,
   "metadata": {},
   "outputs": [
    {
     "data": {
      "text/plain": [
       "5.0"
      ]
     },
     "execution_count": 28,
     "metadata": {},
     "output_type": "execute_result"
    }
   ],
   "source": [
    "a[-1]"
   ]
  },
  {
   "cell_type": "markdown",
   "metadata": {},
   "source": [
    "`a[:]` : returns a copy of the whole array"
   ]
  },
  {
   "cell_type": "code",
   "execution_count": 29,
   "metadata": {},
   "outputs": [
    {
     "data": {
      "text/plain": [
       "array([1., 2., 3., 4., 5.])"
      ]
     },
     "execution_count": 29,
     "metadata": {},
     "output_type": "execute_result"
    }
   ],
   "source": [
    "a[:]"
   ]
  },
  {
   "cell_type": "markdown",
   "metadata": {},
   "source": [
    "`a[start:]` : returns elements from start to the rest of the array"
   ]
  },
  {
   "cell_type": "code",
   "execution_count": 30,
   "metadata": {},
   "outputs": [
    {
     "data": {
      "text/plain": [
       "array([3., 4., 5.])"
      ]
     },
     "execution_count": 30,
     "metadata": {},
     "output_type": "execute_result"
    }
   ],
   "source": [
    "a[2:]"
   ]
  },
  {
   "cell_type": "markdown",
   "metadata": {},
   "source": [
    "`a[:end]` : returns elements from the beginning through end-1"
   ]
  },
  {
   "cell_type": "code",
   "execution_count": 31,
   "metadata": {},
   "outputs": [
    {
     "data": {
      "text/plain": [
       "array([1., 2., 3., 4., 5.])"
      ]
     },
     "execution_count": 31,
     "metadata": {},
     "output_type": "execute_result"
    }
   ],
   "source": [
    "a[:5]"
   ]
  },
  {
   "cell_type": "markdown",
   "metadata": {},
   "source": [
    "`a[start:end]` : returns elements from start through end-1"
   ]
  },
  {
   "cell_type": "code",
   "execution_count": 32,
   "metadata": {},
   "outputs": [
    {
     "data": {
      "text/plain": [
       "array([3., 4.])"
      ]
     },
     "execution_count": 32,
     "metadata": {},
     "output_type": "execute_result"
    }
   ],
   "source": [
    "a[2:4]"
   ]
  },
  {
   "cell_type": "markdown",
   "metadata": {},
   "source": [
    "Indexing multi-dimensional arrays is different from list indexing:"
   ]
  },
  {
   "cell_type": "code",
   "execution_count": 33,
   "metadata": {},
   "outputs": [
    {
     "data": {
      "text/plain": [
       "array([[1, 2],\n",
       "       [3, 4]])"
      ]
     },
     "execution_count": 33,
     "metadata": {},
     "output_type": "execute_result"
    }
   ],
   "source": [
    "b = np.array([[1, 2], [3, 4]])\n",
    "b"
   ]
  },
  {
   "cell_type": "code",
   "execution_count": 34,
   "metadata": {},
   "outputs": [
    {
     "data": {
      "text/plain": [
       "array([1, 2])"
      ]
     },
     "execution_count": 34,
     "metadata": {},
     "output_type": "execute_result"
    }
   ],
   "source": [
    "b[0]"
   ]
  },
  {
   "cell_type": "markdown",
   "metadata": {},
   "source": [
    "or"
   ]
  },
  {
   "cell_type": "code",
   "execution_count": 35,
   "metadata": {},
   "outputs": [
    {
     "data": {
      "text/plain": [
       "array([1, 2])"
      ]
     },
     "execution_count": 35,
     "metadata": {},
     "output_type": "execute_result"
    }
   ],
   "source": [
    "b[0,:]"
   ]
  },
  {
   "cell_type": "markdown",
   "metadata": {},
   "source": [
    "Slicing along the second dimension:"
   ]
  },
  {
   "cell_type": "code",
   "execution_count": 36,
   "metadata": {},
   "outputs": [
    {
     "data": {
      "text/plain": [
       "array([2, 4])"
      ]
     },
     "execution_count": 36,
     "metadata": {},
     "output_type": "execute_result"
    }
   ],
   "source": [
    "b[:,1]"
   ]
  },
  {
   "cell_type": "markdown",
   "metadata": {},
   "source": [
    "To index an individual element, we have to provide the coordinates:"
   ]
  },
  {
   "cell_type": "code",
   "execution_count": 37,
   "metadata": {},
   "outputs": [
    {
     "data": {
      "text/plain": [
       "3"
      ]
     },
     "execution_count": 37,
     "metadata": {},
     "output_type": "execute_result"
    }
   ],
   "source": [
    "b[1,0]"
   ]
  },
  {
   "cell_type": "markdown",
   "metadata": {},
   "source": [
    "### Array methods"
   ]
  },
  {
   "cell_type": "markdown",
   "metadata": {},
   "source": [
    "The `ndarray` data type offers several methods:"
   ]
  },
  {
   "cell_type": "code",
   "execution_count": 38,
   "metadata": {},
   "outputs": [
    {
     "data": {
      "text/plain": [
       "array([ 3,  0, 15,  5])"
      ]
     },
     "execution_count": 38,
     "metadata": {},
     "output_type": "execute_result"
    }
   ],
   "source": [
    "a = np.array([3, 0, 15, 5])\n",
    "a"
   ]
  },
  {
   "cell_type": "code",
   "execution_count": 39,
   "metadata": {},
   "outputs": [
    {
     "data": {
      "text/plain": [
       "array([ 0,  3,  5, 15])"
      ]
     },
     "execution_count": 39,
     "metadata": {},
     "output_type": "execute_result"
    }
   ],
   "source": [
    "a.sort()\n",
    "a"
   ]
  },
  {
   "cell_type": "code",
   "execution_count": 40,
   "metadata": {},
   "outputs": [
    {
     "data": {
      "text/plain": [
       "23"
      ]
     },
     "execution_count": 40,
     "metadata": {},
     "output_type": "execute_result"
    }
   ],
   "source": [
    "a.sum()"
   ]
  },
  {
   "cell_type": "code",
   "execution_count": 41,
   "metadata": {},
   "outputs": [
    {
     "data": {
      "text/plain": [
       "0"
      ]
     },
     "execution_count": 41,
     "metadata": {},
     "output_type": "execute_result"
    }
   ],
   "source": [
    "a.min()"
   ]
  },
  {
   "cell_type": "code",
   "execution_count": 42,
   "metadata": {},
   "outputs": [
    {
     "data": {
      "text/plain": [
       "5.75"
      ]
     },
     "execution_count": 42,
     "metadata": {},
     "output_type": "execute_result"
    }
   ],
   "source": [
    "a.mean()"
   ]
  },
  {
   "cell_type": "code",
   "execution_count": 43,
   "metadata": {},
   "outputs": [
    {
     "data": {
      "text/plain": [
       "31.6875"
      ]
     },
     "execution_count": 43,
     "metadata": {},
     "output_type": "execute_result"
    }
   ],
   "source": [
    "a.var()"
   ]
  },
  {
   "cell_type": "code",
   "execution_count": 44,
   "metadata": {},
   "outputs": [
    {
     "data": {
      "text/plain": [
       "array([[ 0,  3],\n",
       "       [ 5, 15]])"
      ]
     },
     "execution_count": 44,
     "metadata": {},
     "output_type": "execute_result"
    }
   ],
   "source": [
    "a.shape = (2,2)\n",
    "a"
   ]
  },
  {
   "cell_type": "code",
   "execution_count": 45,
   "metadata": {},
   "outputs": [
    {
     "data": {
      "text/plain": [
       "array([[ 0,  5],\n",
       "       [ 3, 15]])"
      ]
     },
     "execution_count": 45,
     "metadata": {},
     "output_type": "execute_result"
    }
   ],
   "source": [
    "a.T"
   ]
  },
  {
   "cell_type": "markdown",
   "metadata": {},
   "source": [
    "### Array operations"
   ]
  },
  {
   "cell_type": "markdown",
   "metadata": {},
   "source": [
    "Arithmetic operations apply element-wise:"
   ]
  },
  {
   "cell_type": "code",
   "execution_count": 46,
   "metadata": {},
   "outputs": [],
   "source": [
    "a = np.array([0,1,2,3])\n",
    "b = np.array([4,5,6,7])"
   ]
  },
  {
   "cell_type": "code",
   "execution_count": 47,
   "metadata": {},
   "outputs": [
    {
     "data": {
      "text/plain": [
       "array([ 4,  6,  8, 10])"
      ]
     },
     "execution_count": 47,
     "metadata": {},
     "output_type": "execute_result"
    }
   ],
   "source": [
    "a + b"
   ]
  },
  {
   "cell_type": "code",
   "execution_count": 48,
   "metadata": {},
   "outputs": [
    {
     "data": {
      "text/plain": [
       "array([ 0,  5, 12, 21])"
      ]
     },
     "execution_count": 48,
     "metadata": {},
     "output_type": "execute_result"
    }
   ],
   "source": [
    "a * b"
   ]
  },
  {
   "cell_type": "code",
   "execution_count": 49,
   "metadata": {},
   "outputs": [
    {
     "data": {
      "text/plain": [
       "array([-4, -3, -2, -1])"
      ]
     },
     "execution_count": 49,
     "metadata": {},
     "output_type": "execute_result"
    }
   ],
   "source": [
    "a - 4"
   ]
  },
  {
   "cell_type": "code",
   "execution_count": 50,
   "metadata": {},
   "outputs": [],
   "source": [
    "a.shape = (2,2)\n",
    "b.shape = (2,2)"
   ]
  },
  {
   "cell_type": "code",
   "execution_count": 51,
   "metadata": {},
   "outputs": [
    {
     "data": {
      "text/plain": [
       "array([[0, 1],\n",
       "       [2, 3]])"
      ]
     },
     "execution_count": 51,
     "metadata": {},
     "output_type": "execute_result"
    }
   ],
   "source": [
    "a"
   ]
  },
  {
   "cell_type": "code",
   "execution_count": 52,
   "metadata": {},
   "outputs": [
    {
     "data": {
      "text/plain": [
       "array([[4, 5],\n",
       "       [6, 7]])"
      ]
     },
     "execution_count": 52,
     "metadata": {},
     "output_type": "execute_result"
    }
   ],
   "source": [
    "b"
   ]
  },
  {
   "cell_type": "markdown",
   "metadata": {},
   "source": [
    "Element-wise multiplication:"
   ]
  },
  {
   "cell_type": "code",
   "execution_count": 53,
   "metadata": {},
   "outputs": [
    {
     "data": {
      "text/plain": [
       "array([[ 0,  5],\n",
       "       [12, 21]])"
      ]
     },
     "execution_count": 53,
     "metadata": {},
     "output_type": "execute_result"
    }
   ],
   "source": [
    "a * b"
   ]
  },
  {
   "cell_type": "markdown",
   "metadata": {},
   "source": [
    "For matrix multiplication, you can either use the `@` operator:"
   ]
  },
  {
   "cell_type": "code",
   "execution_count": 54,
   "metadata": {},
   "outputs": [
    {
     "data": {
      "text/plain": [
       "array([[ 6,  7],\n",
       "       [26, 31]])"
      ]
     },
     "execution_count": 54,
     "metadata": {},
     "output_type": "execute_result"
    }
   ],
   "source": [
    "a @ b"
   ]
  },
  {
   "cell_type": "markdown",
   "metadata": {},
   "source": [
    "or the array `dot` method"
   ]
  },
  {
   "cell_type": "code",
   "execution_count": 55,
   "metadata": {},
   "outputs": [
    {
     "data": {
      "text/plain": [
       "array([[ 6,  7],\n",
       "       [26, 31]])"
      ]
     },
     "execution_count": 55,
     "metadata": {},
     "output_type": "execute_result"
    }
   ],
   "source": [
    "a.dot(b)"
   ]
  },
  {
   "cell_type": "markdown",
   "metadata": {},
   "source": [
    "or the Numpy `dot` product function:"
   ]
  },
  {
   "cell_type": "code",
   "execution_count": 56,
   "metadata": {},
   "outputs": [
    {
     "data": {
      "text/plain": [
       "array([[ 6,  7],\n",
       "       [26, 31]])"
      ]
     },
     "execution_count": 56,
     "metadata": {},
     "output_type": "execute_result"
    }
   ],
   "source": [
    "np.dot(a,b)"
   ]
  },
  {
   "cell_type": "markdown",
   "metadata": {},
   "source": [
    "Numpy math functions are optimized to work directly on arrays:"
   ]
  },
  {
   "cell_type": "code",
   "execution_count": 57,
   "metadata": {},
   "outputs": [
    {
     "data": {
      "text/plain": [
       "array([[ 1.        ,  2.71828183],\n",
       "       [ 7.3890561 , 20.08553692]])"
      ]
     },
     "execution_count": 57,
     "metadata": {},
     "output_type": "execute_result"
    }
   ],
   "source": [
    "np.exp(a)"
   ]
  },
  {
   "cell_type": "code",
   "execution_count": 58,
   "metadata": {},
   "outputs": [
    {
     "data": {
      "text/plain": [
       "array([[0.        , 0.84147098],\n",
       "       [0.90929743, 0.14112001]])"
      ]
     },
     "execution_count": 58,
     "metadata": {},
     "output_type": "execute_result"
    }
   ],
   "source": [
    "np.sin(a)"
   ]
  },
  {
   "cell_type": "markdown",
   "metadata": {},
   "source": [
    "## Matplotlib"
   ]
  },
  {
   "cell_type": "markdown",
   "metadata": {},
   "source": [
    "There are many powerful possibilities when it comes to data vizualisation in Python (Matplotlib, Seaborn, Bokeh, ggplot, etc). The one mostly used for non-interactive 2D and 3D plots is Matplotlib. The Matplotlib library is similar to Matlab's plotting interface. "
   ]
  },
  {
   "cell_type": "code",
   "execution_count": 59,
   "metadata": {},
   "outputs": [],
   "source": [
    "import matplotlib.pyplot as plt"
   ]
  },
  {
   "cell_type": "markdown",
   "metadata": {},
   "source": [
    "We first generate two arrays to plot:"
   ]
  },
  {
   "cell_type": "code",
   "execution_count": 60,
   "metadata": {},
   "outputs": [],
   "source": [
    "x = np.linspace(-2, 2, 100)\n",
    "y = x ** 2\n",
    "z = x ** 3"
   ]
  },
  {
   "cell_type": "code",
   "execution_count": 61,
   "metadata": {},
   "outputs": [
    {
     "data": {
      "image/png": "[encoded data removed]",
      "text/plain": [
       "<Figure size 432x288 with 1 Axes>"
      ]
     },
     "metadata": {
      "needs_background": "light"
     },
     "output_type": "display_data"
    }
   ],
   "source": [
    "plt.figure()\n",
    "plt.plot(x,y,'-b',label = r'$x^2$')\n",
    "plt.plot(x,z,'--g',label = r'$x^3$')\n",
    "plt.legend(loc='best')\n",
    "plt.title('A simple example',fontsize='20')\n",
    "plt.ylabel(r'$f(x)$',fontsize='16')\n",
    "plt.xlabel(r'$x$',fontsize='16')\n",
    "plt.show()\n",
    "#fig.savefig('foo.pdf')"
   ]
  },
  {
   "cell_type": "markdown",
   "metadata": {},
   "source": [
    "The Jupyter magic command `%matplotlib` enables the choice of the plotting backend. To list all available backends type:"
   ]
  },
  {
   "cell_type": "code",
   "execution_count": 62,
   "metadata": {},
   "outputs": [
    {
     "name": "stdout",
     "output_type": "stream",
     "text": [
      "Available matplotlib backends: ['tk', 'gtk', 'gtk3', 'wx', 'qt4', 'qt5', 'qt', 'osx', 'nbagg', 'notebook', 'agg', 'svg', 'pdf', 'ps', 'inline', 'ipympl', 'widget']\n"
     ]
    }
   ],
   "source": [
    "%matplotlib --list"
   ]
  },
  {
   "cell_type": "markdown",
   "metadata": {},
   "source": [
    "The backend `notebook` allows for interactive figures inside the notebook:"
   ]
  },
  {
   "cell_type": "code",
   "execution_count": 63,
   "metadata": {},
   "outputs": [],
   "source": [
    "%matplotlib notebook"
   ]
  },
  {
   "cell_type": "markdown",
   "metadata": {},
   "source": [
    "## SciPy"
   ]
  },
  {
   "cell_type": "markdown",
   "metadata": {},
   "source": [
    "SciPy is the main stack of scientific libraries for Python. It is built on top of Numpy and includes routines for almost everything you might need in your computational economics and finance work:\n",
    "* Optimization and root finding\n",
    "* Probability distributions\n",
    "* Numerical integration and differentiation\n",
    "* Function interpolation\n",
    "* Linear algebra\n",
    "* ...\n",
    "\n",
    "You can find a list of all SciPy subpackages in [this online tutorial](https://docs.scipy.org/doc/scipy/reference/tutorial/index.html).\n",
    "\n",
    "In what follows, we will limit ourselves to exploring the use of the numerical optimization subpackage `scipy.optimize` which provides several commonly used root-finding and optimization algorithms. A detailed list is available [here](https://docs.scipy.org/doc/scipy/reference/optimize.html#module-scipy.optimize).\n",
    "\n",
    "Note that the common practice when using Scipy is to import the required subpackages indiviually instead of importing all of Scipy."
   ]
  },
  {
   "cell_type": "markdown",
   "metadata": {},
   "source": [
    "### Root finding"
   ]
  },
  {
   "cell_type": "markdown",
   "metadata": {},
   "source": [
    "The function `root` offers a simple interface to several root finding methods. In order to use it, we first define the objective function, then pass it to `root` along with an initial guess of the roots.\n",
    "\n",
    "Let's give it a try with the following simple quadratic equation:\n",
    "$$\n",
    "x^2 - 2 x = 0\n",
    "$$"
   ]
  },
  {
   "cell_type": "code",
   "execution_count": 64,
   "metadata": {},
   "outputs": [],
   "source": [
    "def f(x):\n",
    "    \"\"\"\n",
    "    The objective function\n",
    "    \n",
    "    \"\"\"\n",
    "    \n",
    "    return x ** 2 - 2 * x"
   ]
  },
  {
   "cell_type": "markdown",
   "metadata": {},
   "source": [
    "Let's first plot the function to get a better understanding of its behavior:"
   ]
  },
  {
   "cell_type": "code",
   "execution_count": 65,
   "metadata": {},
   "outputs": [
    {
     "data": {
      "application/javascript": [
       "/* Put everything inside the global mpl namespace */\n",
       "window.mpl = {};\n",
       "\n",
       "\n",
       "mpl.get_websocket_type = function() {\n",
       "    if (typeof(WebSocket) !== 'undefined') {\n",
       "        return WebSocket;\n",
       "    } else if (typeof(MozWebSocket) !== 'undefined') {\n",
       "        return MozWebSocket;\n",
       "    } else {\n",
       "        alert('Your browser does not have WebSocket support.' +\n",
       "              'Please try Chrome, Safari or Firefox ≥ 6. ' +\n",
       "              'Firefox 4 and 5 are also supported but you ' +\n",
       "              'have to enable WebSockets in about:config.');\n",
       "    };\n",
       "}\n",
       "\n",
       "mpl.figure = function(figure_id, websocket, ondownload, parent_element) {\n",
       "    this.id = figure_id;\n",
       "\n",
       "    this.ws = websocket;\n",
       "\n",
       "    this.supports_binary = (this.ws.binaryType != undefined);\n",
       "\n",
       "    if (!this.supports_binary) {\n",
       "        var warnings = document.getElementById(\"mpl-warnings\");\n",
       "        if (warnings) {\n",
       "            warnings.style.display = 'block';\n",
       "            warnings.textContent = (\n",
       "                \"This browser does not support binary websocket messages. \" +\n",
       "                    \"Performance may be slow.\");\n",
       "        }\n",
       "    }\n",
       "\n",
       "    this.imageObj = new Image();\n",
       "\n",
       "    this.context = undefined;\n",
       "    this.message = undefined;\n",
       "    this.canvas = undefined;\n",
       "    this.rubberband_canvas = undefined;\n",
       "    this.rubberband_context = undefined;\n",
       "    this.format_dropdown = undefined;\n",
       "\n",
       "    this.image_mode = 'full';\n",
       "\n",
       "    this.root = $('<div/>');\n",
       "    this._root_extra_style(this.root)\n",
       "    this.root.attr('style', 'display: inline-block');\n",
       "\n",
       "    $(parent_element).append(this.root);\n",
       "\n",
       "    this._init_header(this);\n",
       "    this._init_canvas(this);\n",
       "    this._init_toolbar(this);\n",
       "\n",
       "    var fig = this;\n",
       "\n",
       "    this.waiting = false;\n",
       "\n",
       "    this.ws.onopen =  function () {\n",
       "            fig.send_message(\"supports_binary\", {value: fig.supports_binary});\n",
       "            fig.send_message(\"send_image_mode\", {});\n",
       "            if (mpl.ratio != 1) {\n",
       "                fig.send_message(\"set_dpi_ratio\", {'dpi_ratio': mpl.ratio});\n",
       "            }\n",
       "            fig.send_message(\"refresh\", {});\n",
       "        }\n",
       "\n",
       "    this.imageObj.onload = function() {\n",
       "            if (fig.image_mode == 'full') {\n",
       "                // Full images could contain transparency (where diff images\n",
       "                // almost always do), so we need to clear the canvas so that\n",
       "                // there is no ghosting.\n",
       "                fig.context.clearRect(0, 0, fig.canvas.width, fig.canvas.height);\n",
       "            }\n",
       "            fig.context.drawImage(fig.imageObj, 0, 0);\n",
       "        };\n",
       "\n",
       "    this.imageObj.onunload = function() {\n",
       "        fig.ws.close();\n",
       "    }\n",
       "\n",
       "    this.ws.onmessage = this._make_on_message_function(this);\n",
       "\n",
       "    this.ondownload = ondownload;\n",
       "}\n",
       "\n",
       "mpl.figure.prototype._init_header = function() {\n",
       "    var titlebar = $(\n",
       "        '<div class=\"ui-dialog-titlebar ui-widget-header ui-corner-all ' +\n",
       "        'ui-helper-clearfix\"/>');\n",
       "    var titletext = $(\n",
       "        '<div class=\"ui-dialog-title\" style=\"width: 100%; ' +\n",
       "        'text-align: center; padding: 3px;\"/>');\n",
       "    titlebar.append(titletext)\n",
       "    this.root.append(titlebar);\n",
       "    this.header = titletext[0];\n",
       "}\n",
       "\n",
       "\n",
       "\n",
       "mpl.figure.prototype._canvas_extra_style = function(canvas_div) {\n",
       "\n",
       "}\n",
       "\n",
       "\n",
       "mpl.figure.prototype._root_extra_style = function(canvas_div) {\n",
       "\n",
       "}\n",
       "\n",
       "mpl.figure.prototype._init_canvas = function() {\n",
       "    var fig = this;\n",
       "\n",
       "    var canvas_div = $('<div/>');\n",
       "\n",
       "    canvas_div.attr('style', 'position: relative; clear: both; outline: 0');\n",
       "\n",
       "    function canvas_keyboard_event(event) {\n",
       "        return fig.key_event(event, event['data']);\n",
       "    }\n",
       "\n",
       "    canvas_div.keydown('key_press', canvas_keyboard_event);\n",
       "    canvas_div.keyup('key_release', canvas_keyboard_event);\n",
       "    this.canvas_div = canvas_div\n",
       "    this._canvas_extra_style(canvas_div)\n",
       "    this.root.append(canvas_div);\n",
       "\n",
       "    var canvas = $('<canvas/>');\n",
       "    canvas.addClass('mpl-canvas');\n",
       "    canvas.attr('style', \"left: 0; top: 0; z-index: 0; outline: 0\")\n",
       "\n",
       "    this.canvas = canvas[0];\n",
       "    this.context = canvas[0].getContext(\"2d\");\n",
       "\n",
       "    var backingStore = this.context.backingStorePixelRatio ||\n",
       "\tthis.context.webkitBackingStorePixelRatio ||\n",
       "\tthis.context.mozBackingStorePixelRatio ||\n",
       "\tthis.context.msBackingStorePixelRatio ||\n",
       "\tthis.context.oBackingStorePixelRatio ||\n",
       "\tthis.context.backingStorePixelRatio || 1;\n",
       "\n",
       "    mpl.ratio = (window.devicePixelRatio || 1) / backingStore;\n",
       "\n",
       "    var rubberband = $('<canvas/>');\n",
       "    rubberband.attr('style', \"position: absolute; left: 0; top: 0; z-index: 1;\")\n",
       "\n",
       "    var pass_mouse_events = true;\n",
       "\n",
       "    canvas_div.resizable({\n",
       "        start: function(event, ui) {\n",
       "            pass_mouse_events = false;\n",
       "        },\n",
       "        resize: function(event, ui) {\n",
       "            fig.request_resize(ui.size.width, ui.size.height);\n",
       "        },\n",
       "        stop: function(event, ui) {\n",
       "            pass_mouse_events = true;\n",
       "            fig.request_resize(ui.size.width, ui.size.height);\n",
       "        },\n",
       "    });\n",
       "\n",
       "    function mouse_event_fn(event) {\n",
       "        if (pass_mouse_events)\n",
       "            return fig.mouse_event(event, event['data']);\n",
       "    }\n",
       "\n",
       "    rubberband.mousedown('button_press', mouse_event_fn);\n",
       "    rubberband.mouseup('button_release', mouse_event_fn);\n",
       "    // Throttle sequential mouse events to 1 every 20ms.\n",
       "    rubberband.mousemove('motion_notify', mouse_event_fn);\n",
       "\n",
       "    rubberband.mouseenter('figure_enter', mouse_event_fn);\n",
       "    rubberband.mouseleave('figure_leave', mouse_event_fn);\n",
       "\n",
       "    canvas_div.on(\"wheel\", function (event) {\n",
       "        event = event.originalEvent;\n",
       "        event['data'] = 'scroll'\n",
       "        if (event.deltaY < 0) {\n",
       "            event.step = 1;\n",
       "        } else {\n",
       "            event.step = -1;\n",
       "        }\n",
       "        mouse_event_fn(event);\n",
       "    });\n",
       "\n",
       "    canvas_div.append(canvas);\n",
       "    canvas_div.append(rubberband);\n",
       "\n",
       "    this.rubberband = rubberband;\n",
       "    this.rubberband_canvas = rubberband[0];\n",
       "    this.rubberband_context = rubberband[0].getContext(\"2d\");\n",
       "    this.rubberband_context.strokeStyle = \"#000000\";\n",
       "\n",
       "    this._resize_canvas = function(width, height) {\n",
       "        // Keep the size of the canvas, canvas container, and rubber band\n",
       "        // canvas in synch.\n",
       "        canvas_div.css('width', width)\n",
       "        canvas_div.css('height', height)\n",
       "\n",
       "        canvas.attr('width', width * mpl.ratio);\n",
       "        canvas.attr('height', height * mpl.ratio);\n",
       "        canvas.attr('style', 'width: ' + width + 'px; height: ' + height + 'px;');\n",
       "\n",
       "        rubberband.attr('width', width);\n",
       "        rubberband.attr('height', height);\n",
       "    }\n",
       "\n",
       "    // Set the figure to an initial 600x600px, this will subsequently be updated\n",
       "    // upon first draw.\n",
       "    this._resize_canvas(600, 600);\n",
       "\n",
       "    // Disable right mouse context menu.\n",
       "    $(this.rubberband_canvas).bind(\"contextmenu\",function(e){\n",
       "        return false;\n",
       "    });\n",
       "\n",
       "    function set_focus () {\n",
       "        canvas.focus();\n",
       "        canvas_div.focus();\n",
       "    }\n",
       "\n",
       "    window.setTimeout(set_focus, 100);\n",
       "}\n",
       "\n",
       "mpl.figure.prototype._init_toolbar = function() {\n",
       "    var fig = this;\n",
       "\n",
       "    var nav_element = $('<div/>')\n",
       "    nav_element.attr('style', 'width: 100%');\n",
       "    this.root.append(nav_element);\n",
       "\n",
       "    // Define a callback function for later on.\n",
       "    function toolbar_event(event) {\n",
       "        return fig.toolbar_button_onclick(event['data']);\n",
       "    }\n",
       "    function toolbar_mouse_event(event) {\n",
       "        return fig.toolbar_button_onmouseover(event['data']);\n",
       "    }\n",
       "\n",
       "    for(var toolbar_ind in mpl.toolbar_items) {\n",
       "        var name = mpl.toolbar_items[toolbar_ind][0];\n",
       "        var tooltip = mpl.toolbar_items[toolbar_ind][1];\n",
       "        var image = mpl.toolbar_items[toolbar_ind][2];\n",
       "        var method_name = mpl.toolbar_items[toolbar_ind][3];\n",
       "\n",
       "        if (!name) {\n",
       "            // put a spacer in here.\n",
       "            continue;\n",
       "        }\n",
       "        var button = $('<button/>');\n",
       "        button.addClass('ui-button ui-widget ui-state-default ui-corner-all ' +\n",
       "                        'ui-button-icon-only');\n",
       "        button.attr('role', 'button');\n",
       "        button.attr('aria-disabled', 'false');\n",
       "        button.click(method_name, toolbar_event);\n",
       "        button.mouseover(tooltip, toolbar_mouse_event);\n",
       "\n",
       "        var icon_img = $('<span/>');\n",
       "        icon_img.addClass('ui-button-icon-primary ui-icon');\n",
       "        icon_img.addClass(image);\n",
       "        icon_img.addClass('ui-corner-all');\n",
       "\n",
       "        var tooltip_span = $('<span/>');\n",
       "        tooltip_span.addClass('ui-button-text');\n",
       "        tooltip_span.html(tooltip);\n",
       "\n",
       "        button.append(icon_img);\n",
       "        button.append(tooltip_span);\n",
       "\n",
       "        nav_element.append(button);\n",
       "    }\n",
       "\n",
       "    var fmt_picker_span = $('<span/>');\n",
       "\n",
       "    var fmt_picker = $('<select/>');\n",
       "    fmt_picker.addClass('mpl-toolbar-option ui-widget ui-widget-content');\n",
       "    fmt_picker_span.append(fmt_picker);\n",
       "    nav_element.append(fmt_picker_span);\n",
       "    this.format_dropdown = fmt_picker[0];\n",
       "\n",
       "    for (var ind in mpl.extensions) {\n",
       "        var fmt = mpl.extensions[ind];\n",
       "        var option = $(\n",
       "            '<option/>', {selected: fmt === mpl.default_extension}).html(fmt);\n",
       "        fmt_picker.append(option)\n",
       "    }\n",
       "\n",
       "    // Add hover states to the ui-buttons\n",
       "    $( \".ui-button\" ).hover(\n",
       "        function() { $(this).addClass(\"ui-state-hover\");},\n",
       "        function() { $(this).removeClass(\"ui-state-hover\");}\n",
       "    );\n",
       "\n",
       "    var status_bar = $('<span class=\"mpl-message\"/>');\n",
       "    nav_element.append(status_bar);\n",
       "    this.message = status_bar[0];\n",
       "}\n",
       "\n",
       "mpl.figure.prototype.request_resize = function(x_pixels, y_pixels) {\n",
       "    // Request matplotlib to resize the figure. Matplotlib will then trigger a resize in the client,\n",
       "    // which will in turn request a refresh of the image.\n",
       "    this.send_message('resize', {'width': x_pixels, 'height': y_pixels});\n",
       "}\n",
       "\n",
       "mpl.figure.prototype.send_message = function(type, properties) {\n",
       "    properties['type'] = type;\n",
       "    properties['figure_id'] = this.id;\n",
       "    this.ws.send(JSON.stringify(properties));\n",
       "}\n",
       "\n",
       "mpl.figure.prototype.send_draw_message = function() {\n",
       "    if (!this.waiting) {\n",
       "        this.waiting = true;\n",
       "        this.ws.send(JSON.stringify({type: \"draw\", figure_id: this.id}));\n",
       "    }\n",
       "}\n",
       "\n",
       "\n",
       "mpl.figure.prototype.handle_save = function(fig, msg) {\n",
       "    var format_dropdown = fig.format_dropdown;\n",
       "    var format = format_dropdown.options[format_dropdown.selectedIndex].value;\n",
       "    fig.ondownload(fig, format);\n",
       "}\n",
       "\n",
       "\n",
       "mpl.figure.prototype.handle_resize = function(fig, msg) {\n",
       "    var size = msg['size'];\n",
       "    if (size[0] != fig.canvas.width || size[1] != fig.canvas.height) {\n",
       "        fig._resize_canvas(size[0], size[1]);\n",
       "        fig.send_message(\"refresh\", {});\n",
       "    };\n",
       "}\n",
       "\n",
       "mpl.figure.prototype.handle_rubberband = function(fig, msg) {\n",
       "    var x0 = msg['x0'] / mpl.ratio;\n",
       "    var y0 = (fig.canvas.height - msg['y0']) / mpl.ratio;\n",
       "    var x1 = msg['x1'] / mpl.ratio;\n",
       "    var y1 = (fig.canvas.height - msg['y1']) / mpl.ratio;\n",
       "    x0 = Math.floor(x0) + 0.5;\n",
       "    y0 = Math.floor(y0) + 0.5;\n",
       "    x1 = Math.floor(x1) + 0.5;\n",
       "    y1 = Math.floor(y1) + 0.5;\n",
       "    var min_x = Math.min(x0, x1);\n",
       "    var min_y = Math.min(y0, y1);\n",
       "    var width = Math.abs(x1 - x0);\n",
       "    var height = Math.abs(y1 - y0);\n",
       "\n",
       "    fig.rubberband_context.clearRect(\n",
       "        0, 0, fig.canvas.width, fig.canvas.height);\n",
       "\n",
       "    fig.rubberband_context.strokeRect(min_x, min_y, width, height);\n",
       "}\n",
       "\n",
       "mpl.figure.prototype.handle_figure_label = function(fig, msg) {\n",
       "    // Updates the figure title.\n",
       "    fig.header.textContent = msg['label'];\n",
       "}\n",
       "\n",
       "mpl.figure.prototype.handle_cursor = function(fig, msg) {\n",
       "    var cursor = msg['cursor'];\n",
       "    switch(cursor)\n",
       "    {\n",
       "    case 0:\n",
       "        cursor = 'pointer';\n",
       "        break;\n",
       "    case 1:\n",
       "        cursor = 'default';\n",
       "        break;\n",
       "    case 2:\n",
       "        cursor = 'crosshair';\n",
       "        break;\n",
       "    case 3:\n",
       "        cursor = 'move';\n",
       "        break;\n",
       "    }\n",
       "    fig.rubberband_canvas.style.cursor = cursor;\n",
       "}\n",
       "\n",
       "mpl.figure.prototype.handle_message = function(fig, msg) {\n",
       "    fig.message.textContent = msg['message'];\n",
       "}\n",
       "\n",
       "mpl.figure.prototype.handle_draw = function(fig, msg) {\n",
       "    // Request the server to send over a new figure.\n",
       "    fig.send_draw_message();\n",
       "}\n",
       "\n",
       "mpl.figure.prototype.handle_image_mode = function(fig, msg) {\n",
       "    fig.image_mode = msg['mode'];\n",
       "}\n",
       "\n",
       "mpl.figure.prototype.updated_canvas_event = function() {\n",
       "    // Called whenever the canvas gets updated.\n",
       "    this.send_message(\"ack\", {});\n",
       "}\n",
       "\n",
       "// A function to construct a web socket function for onmessage handling.\n",
       "// Called in the figure constructor.\n",
       "mpl.figure.prototype._make_on_message_function = function(fig) {\n",
       "    return function socket_on_message(evt) {\n",
       "        if (evt.data instanceof Blob) {\n",
       "            /* FIXME: We get \"Resource interpreted as Image but\n",
       "             * transferred with MIME type text/plain:\" errors on\n",
       "             * Chrome.  But how to set the MIME type?  It doesn't seem\n",
       "             * to be part of the websocket stream */\n",
       "            evt.data.type = \"image/png\";\n",
       "\n",
       "            /* Free the memory for the previous frames */\n",
       "            if (fig.imageObj.src) {\n",
       "                (window.URL || window.webkitURL).revokeObjectURL(\n",
       "                    fig.imageObj.src);\n",
       "            }\n",
       "\n",
       "            fig.imageObj.src = (window.URL || window.webkitURL).createObjectURL(\n",
       "                evt.data);\n",
       "            fig.updated_canvas_event();\n",
       "            fig.waiting = false;\n",
       "            return;\n",
       "        }\n",
       "        else if (typeof evt.data === 'string' && evt.data.slice(0, 21) == \"data:image/png;base64\") {\n",
       "            fig.imageObj.src = evt.data;\n",
       "            fig.updated_canvas_event();\n",
       "            fig.waiting = false;\n",
       "            return;\n",
       "        }\n",
       "\n",
       "        var msg = JSON.parse(evt.data);\n",
       "        var msg_type = msg['type'];\n",
       "\n",
       "        // Call the  \"handle_{type}\" callback, which takes\n",
       "        // the figure and JSON message as its only arguments.\n",
       "        try {\n",
       "            var callback = fig[\"handle_\" + msg_type];\n",
       "        } catch (e) {\n",
       "            console.log(\"No handler for the '\" + msg_type + \"' message type: \", msg);\n",
       "            return;\n",
       "        }\n",
       "\n",
       "        if (callback) {\n",
       "            try {\n",
       "                // console.log(\"Handling '\" + msg_type + \"' message: \", msg);\n",
       "                callback(fig, msg);\n",
       "            } catch (e) {\n",
       "                console.log(\"Exception inside the 'handler_\" + msg_type + \"' callback:\", e, e.stack, msg);\n",
       "            }\n",
       "        }\n",
       "    };\n",
       "}\n",
       "\n",
       "// from http://stackoverflow.com/questions/1114465/getting-mouse-location-in-canvas\n",
       "mpl.findpos = function(e) {\n",
       "    //this section is from http://www.quirksmode.org/js/events_properties.html\n",
       "    var targ;\n",
       "    if (!e)\n",
       "        e = window.event;\n",
       "    if (e.target)\n",
       "        targ = e.target;\n",
       "    else if (e.srcElement)\n",
       "        targ = e.srcElement;\n",
       "    if (targ.nodeType == 3) // defeat Safari bug\n",
       "        targ = targ.parentNode;\n",
       "\n",
       "    // jQuery normalizes the pageX and pageY\n",
       "    // pageX,Y are the mouse positions relative to the document\n",
       "    // offset() returns the position of the element relative to the document\n",
       "    var x = e.pageX - $(targ).offset().left;\n",
       "    var y = e.pageY - $(targ).offset().top;\n",
       "\n",
       "    return {\"x\": x, \"y\": y};\n",
       "};\n",
       "\n",
       "/*\n",
       " * return a copy of an object with only non-object keys\n",
       " * we need this to avoid circular references\n",
       " * http://stackoverflow.com/a/24161582/3208463\n",
       " */\n",
       "function simpleKeys (original) {\n",
       "  return Object.keys(original).reduce(function (obj, key) {\n",
       "    if (typeof original[key] !== 'object')\n",
       "        obj[key] = original[key]\n",
       "    return obj;\n",
       "  }, {});\n",
       "}\n",
       "\n",
       "mpl.figure.prototype.mouse_event = function(event, name) {\n",
       "    var canvas_pos = mpl.findpos(event)\n",
       "\n",
       "    if (name === 'button_press')\n",
       "    {\n",
       "        this.canvas.focus();\n",
       "        this.canvas_div.focus();\n",
       "    }\n",
       "\n",
       "    var x = canvas_pos.x * mpl.ratio;\n",
       "    var y = canvas_pos.y * mpl.ratio;\n",
       "\n",
       "    this.send_message(name, {x: x, y: y, button: event.button,\n",
       "                             step: event.step,\n",
       "                             guiEvent: simpleKeys(event)});\n",
       "\n",
       "    /* This prevents the web browser from automatically changing to\n",
       "     * the text insertion cursor when the button is pressed.  We want\n",
       "     * to control all of the cursor setting manually through the\n",
       "     * 'cursor' event from matplotlib */\n",
       "    event.preventDefault();\n",
       "    return false;\n",
       "}\n",
       "\n",
       "mpl.figure.prototype._key_event_extra = function(event, name) {\n",
       "    // Handle any extra behaviour associated with a key event\n",
       "}\n",
       "\n",
       "mpl.figure.prototype.key_event = function(event, name) {\n",
       "\n",
       "    // Prevent repeat events\n",
       "    if (name == 'key_press')\n",
       "    {\n",
       "        if (event.which === this._key)\n",
       "            return;\n",
       "        else\n",
       "            this._key = event.which;\n",
       "    }\n",
       "    if (name == 'key_release')\n",
       "        this._key = null;\n",
       "\n",
       "    var value = '';\n",
       "    if (event.ctrlKey && event.which != 17)\n",
       "        value += \"ctrl+\";\n",
       "    if (event.altKey && event.which != 18)\n",
       "        value += \"alt+\";\n",
       "    if (event.shiftKey && event.which != 16)\n",
       "        value += \"shift+\";\n",
       "\n",
       "    value += 'k';\n",
       "    value += event.which.toString();\n",
       "\n",
       "    this._key_event_extra(event, name);\n",
       "\n",
       "    this.send_message(name, {key: value,\n",
       "                             guiEvent: simpleKeys(event)});\n",
       "    return false;\n",
       "}\n",
       "\n",
       "mpl.figure.prototype.toolbar_button_onclick = function(name) {\n",
       "    if (name == 'download') {\n",
       "        this.handle_save(this, null);\n",
       "    } else {\n",
       "        this.send_message(\"toolbar_button\", {name: name});\n",
       "    }\n",
       "};\n",
       "\n",
       "mpl.figure.prototype.toolbar_button_onmouseover = function(tooltip) {\n",
       "    this.message.textContent = tooltip;\n",
       "};\n",
       "mpl.toolbar_items = [[\"Home\", \"Reset original view\", \"fa fa-home icon-home\", \"home\"], [\"Back\", \"Back to previous view\", \"fa fa-arrow-left icon-arrow-left\", \"back\"], [\"Forward\", \"Forward to next view\", \"fa fa-arrow-right icon-arrow-right\", \"forward\"], [\"\", \"\", \"\", \"\"], [\"Pan\", \"Pan axes with left mouse, zoom with right\", \"fa fa-arrows icon-move\", \"pan\"], [\"Zoom\", \"Zoom to rectangle\", \"fa fa-square-o icon-check-empty\", \"zoom\"], [\"\", \"\", \"\", \"\"], [\"Download\", \"Download plot\", \"fa fa-floppy-o icon-save\", \"download\"]];\n",
       "\n",
       "mpl.extensions = [\"eps\", \"jpeg\", \"pdf\", \"png\", \"ps\", \"raw\", \"svg\", \"tif\"];\n",
       "\n",
       "mpl.default_extension = \"png\";var comm_websocket_adapter = function(comm) {\n",
       "    // Create a \"websocket\"-like object which calls the given IPython comm\n",
       "    // object with the appropriate methods. Currently this is a non binary\n",
       "    // socket, so there is still some room for performance tuning.\n",
       "    var ws = {};\n",
       "\n",
       "    ws.close = function() {\n",
       "        comm.close()\n",
       "    };\n",
       "    ws.send = function(m) {\n",
       "        //console.log('sending', m);\n",
       "        comm.send(m);\n",
       "    };\n",
       "    // Register the callback with on_msg.\n",
       "    comm.on_msg(function(msg) {\n",
       "        //console.log('receiving', msg['content']['data'], msg);\n",
       "        // Pass the mpl event to the overridden (by mpl) onmessage function.\n",
       "        ws.onmessage(msg['content']['data'])\n",
       "    });\n",
       "    return ws;\n",
       "}\n",
       "\n",
       "mpl.mpl_figure_comm = function(comm, msg) {\n",
       "    // This is the function which gets called when the mpl process\n",
       "    // starts-up an IPython Comm through the \"matplotlib\" channel.\n",
       "\n",
       "    var id = msg.content.data.id;\n",
       "    // Get hold of the div created by the display call when the Comm\n",
       "    // socket was opened in Python.\n",
       "    var element = $(\"#\" + id);\n",
       "    var ws_proxy = comm_websocket_adapter(comm)\n",
       "\n",
       "    function ondownload(figure, format) {\n",
       "        window.open(figure.imageObj.src);\n",
       "    }\n",
       "\n",
       "    var fig = new mpl.figure(id, ws_proxy,\n",
       "                           ondownload,\n",
       "                           element.get(0));\n",
       "\n",
       "    // Call onopen now - mpl needs it, as it is assuming we've passed it a real\n",
       "    // web socket which is closed, not our websocket->open comm proxy.\n",
       "    ws_proxy.onopen();\n",
       "\n",
       "    fig.parent_element = element.get(0);\n",
       "    fig.cell_info = mpl.find_output_cell(\"<div id='\" + id + \"'></div>\");\n",
       "    if (!fig.cell_info) {\n",
       "        console.error(\"Failed to find cell for figure\", id, fig);\n",
       "        return;\n",
       "    }\n",
       "\n",
       "    var output_index = fig.cell_info[2]\n",
       "    var cell = fig.cell_info[0];\n",
       "\n",
       "};\n",
       "\n",
       "mpl.figure.prototype.handle_close = function(fig, msg) {\n",
       "    var width = fig.canvas.width/mpl.ratio\n",
       "    fig.root.unbind('remove')\n",
       "\n",
       "    // Update the output cell to use the data from the current canvas.\n",
       "    fig.push_to_output();\n",
       "    var dataURL = fig.canvas.toDataURL();\n",
       "    // Re-enable the keyboard manager in IPython - without this line, in FF,\n",
       "    // the notebook keyboard shortcuts fail.\n",
       "    IPython.keyboard_manager.enable()\n",
       "    $(fig.parent_element).html('<img src=\"' + dataURL + '\" width=\"' + width + '\">');\n",
       "    fig.close_ws(fig, msg);\n",
       "}\n",
       "\n",
       "mpl.figure.prototype.close_ws = function(fig, msg){\n",
       "    fig.send_message('closing', msg);\n",
       "    // fig.ws.close()\n",
       "}\n",
       "\n",
       "mpl.figure.prototype.push_to_output = function(remove_interactive) {\n",
       "    // Turn the data on the canvas into data in the output cell.\n",
       "    var width = this.canvas.width/mpl.ratio\n",
       "    var dataURL = this.canvas.toDataURL();\n",
       "    this.cell_info[1]['text/html'] = '<img src=\"' + dataURL + '\" width=\"' + width + '\">';\n",
       "}\n",
       "\n",
       "mpl.figure.prototype.updated_canvas_event = function() {\n",
       "    // Tell IPython that the notebook contents must change.\n",
       "    IPython.notebook.set_dirty(true);\n",
       "    this.send_message(\"ack\", {});\n",
       "    var fig = this;\n",
       "    // Wait a second, then push the new image to the DOM so\n",
       "    // that it is saved nicely (might be nice to debounce this).\n",
       "    setTimeout(function () { fig.push_to_output() }, 1000);\n",
       "}\n",
       "\n",
       "mpl.figure.prototype._init_toolbar = function() {\n",
       "    var fig = this;\n",
       "\n",
       "    var nav_element = $('<div/>')\n",
       "    nav_element.attr('style', 'width: 100%');\n",
       "    this.root.append(nav_element);\n",
       "\n",
       "    // Define a callback function for later on.\n",
       "    function toolbar_event(event) {\n",
       "        return fig.toolbar_button_onclick(event['data']);\n",
       "    }\n",
       "    function toolbar_mouse_event(event) {\n",
       "        return fig.toolbar_button_onmouseover(event['data']);\n",
       "    }\n",
       "\n",
       "    for(var toolbar_ind in mpl.toolbar_items){\n",
       "        var name = mpl.toolbar_items[toolbar_ind][0];\n",
       "        var tooltip = mpl.toolbar_items[toolbar_ind][1];\n",
       "        var image = mpl.toolbar_items[toolbar_ind][2];\n",
       "        var method_name = mpl.toolbar_items[toolbar_ind][3];\n",
       "\n",
       "        if (!name) { continue; };\n",
       "\n",
       "        var button = $('<button class=\"btn btn-default\" href=\"#\" title=\"' + name + '\"><i class=\"fa ' + image + ' fa-lg\"></i></button>');\n",
       "        button.click(method_name, toolbar_event);\n",
       "        button.mouseover(tooltip, toolbar_mouse_event);\n",
       "        nav_element.append(button);\n",
       "    }\n",
       "\n",
       "    // Add the status bar.\n",
       "    var status_bar = $('<span class=\"mpl-message\" style=\"text-align:right; float: right;\"/>');\n",
       "    nav_element.append(status_bar);\n",
       "    this.message = status_bar[0];\n",
       "\n",
       "    // Add the close button to the window.\n",
       "    var buttongrp = $('<div class=\"btn-group inline pull-right\"></div>');\n",
       "    var button = $('<button class=\"btn btn-mini btn-primary\" href=\"#\" title=\"Stop Interaction\"><i class=\"fa fa-power-off icon-remove icon-large\"></i></button>');\n",
       "    button.click(function (evt) { fig.handle_close(fig, {}); } );\n",
       "    button.mouseover('Stop Interaction', toolbar_mouse_event);\n",
       "    buttongrp.append(button);\n",
       "    var titlebar = this.root.find($('.ui-dialog-titlebar'));\n",
       "    titlebar.prepend(buttongrp);\n",
       "}\n",
       "\n",
       "mpl.figure.prototype._root_extra_style = function(el){\n",
       "    var fig = this\n",
       "    el.on(\"remove\", function(){\n",
       "\tfig.close_ws(fig, {});\n",
       "    });\n",
       "}\n",
       "\n",
       "mpl.figure.prototype._canvas_extra_style = function(el){\n",
       "    // this is important to make the div 'focusable\n",
       "    el.attr('tabindex', 0)\n",
       "    // reach out to IPython and tell the keyboard manager to turn it's self\n",
       "    // off when our div gets focus\n",
       "\n",
       "    // location in version 3\n",
       "    if (IPython.notebook.keyboard_manager) {\n",
       "        IPython.notebook.keyboard_manager.register_events(el);\n",
       "    }\n",
       "    else {\n",
       "        // location in version 2\n",
       "        IPython.keyboard_manager.register_events(el);\n",
       "    }\n",
       "\n",
       "}\n",
       "\n",
       "mpl.figure.prototype._key_event_extra = function(event, name) {\n",
       "    var manager = IPython.notebook.keyboard_manager;\n",
       "    if (!manager)\n",
       "        manager = IPython.keyboard_manager;\n",
       "\n",
       "    // Check for shift+enter\n",
       "    if (event.shiftKey && event.which == 13) {\n",
       "        this.canvas_div.blur();\n",
       "        event.shiftKey = false;\n",
       "        // Send a \"J\" for go to next cell\n",
       "        event.which = 74;\n",
       "        event.keyCode = 74;\n",
       "        manager.command_mode();\n",
       "        manager.handle_keydown(event);\n",
       "    }\n",
       "}\n",
       "\n",
       "mpl.figure.prototype.handle_save = function(fig, msg) {\n",
       "    fig.ondownload(fig, null);\n",
       "}\n",
       "\n",
       "\n",
       "mpl.find_output_cell = function(html_output) {\n",
       "    // Return the cell and output element which can be found *uniquely* in the notebook.\n",
       "    // Note - this is a bit hacky, but it is done because the \"notebook_saving.Notebook\"\n",
       "    // IPython event is triggered only after the cells have been serialised, which for\n",
       "    // our purposes (turning an active figure into a static one), is too late.\n",
       "    var cells = IPython.notebook.get_cells();\n",
       "    var ncells = cells.length;\n",
       "    for (var i=0; i<ncells; i++) {\n",
       "        var cell = cells[i];\n",
       "        if (cell.cell_type === 'code'){\n",
       "            for (var j=0; j<cell.output_area.outputs.length; j++) {\n",
       "                var data = cell.output_area.outputs[j];\n",
       "                if (data.data) {\n",
       "                    // IPython >= 3 moved mimebundle to data attribute of output\n",
       "                    data = data.data;\n",
       "                }\n",
       "                if (data['text/html'] == html_output) {\n",
       "                    return [cell, data, j];\n",
       "                }\n",
       "            }\n",
       "        }\n",
       "    }\n",
       "}\n",
       "\n",
       "// Register the function which deals with the matplotlib target/channel.\n",
       "// The kernel may be null if the page has been refreshed.\n",
       "if (IPython.notebook.kernel != null) {\n",
       "    IPython.notebook.kernel.comm_manager.register_target('matplotlib', mpl.mpl_figure_comm);\n",
       "}\n"
      ],
      "text/plain": [
       "<IPython.core.display.Javascript object>"
      ]
     },
     "metadata": {},
     "output_type": "display_data"
    },
    {
     "data": {
      "text/html": [
       "<img src=\"data:image/png;base64,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\" width=\"900\">"
      ],
      "text/plain": [
       "<IPython.core.display.HTML object>"
      ]
     },
     "metadata": {},
     "output_type": "display_data"
    }
   ],
   "source": [
    "x = np.linspace(-3,3,100)\n",
    "\n",
    "plt.figure(figsize=(9,6))\n",
    "plt.plot(x,f(x))\n",
    "plt.show()"
   ]
  },
  {
   "cell_type": "markdown",
   "metadata": {},
   "source": [
    "From the figure above we can see that the equation has two roots $0$ and $2$. Now let's solve numerically for these roots:"
   ]
  },
  {
   "cell_type": "code",
   "execution_count": 66,
   "metadata": {},
   "outputs": [
    {
     "data": {
      "text/plain": [
       "    fjac: array([[ 0.99998618,  0.00525799],\n",
       "       [-0.00525799,  0.99998618]])\n",
       "     fun: array([ 1.35315498e-13, -2.66453526e-13])\n",
       " message: 'The solution converged.'\n",
       "    nfev: 15\n",
       "     qtf: array([ 1.92194663e-10, -4.85040307e-10])\n",
       "       r: array([-1.99471838,  0.00784877,  2.00530717])\n",
       "  status: 1\n",
       " success: True\n",
       "       x: array([-6.76577491e-14,  2.00000000e+00])"
      ]
     },
     "execution_count": 66,
     "metadata": {},
     "output_type": "execute_result"
    }
   ],
   "source": [
    "from scipy.optimize import root\n",
    "\n",
    "root(f,[-3,4],method='hybr') "
   ]
  },
  {
   "cell_type": "markdown",
   "metadata": {},
   "source": [
    "As expected, the solver returns 0 and 2 as the roots of the objective function. \n",
    "\n",
    "Notice that we had to provide two initial guesses, that is one for each root. Had we provided one initial guess the solver would have returned only one root.\n",
    "\n",
    "In order to access the results provided by the solver we can just store them in a variable and then call the appropriate field. For example:"
   ]
  },
  {
   "cell_type": "code",
   "execution_count": 67,
   "metadata": {},
   "outputs": [
    {
     "data": {
      "text/plain": [
       "array([-6.76577491e-14,  2.00000000e+00])"
      ]
     },
     "execution_count": 67,
     "metadata": {},
     "output_type": "execute_result"
    }
   ],
   "source": [
    "sol = root(f,[-3,4],method='hybr')\n",
    "\n",
    "sol.x"
   ]
  },
  {
   "cell_type": "code",
   "execution_count": 68,
   "metadata": {},
   "outputs": [
    {
     "data": {
      "text/plain": [
       "True"
      ]
     },
     "execution_count": 68,
     "metadata": {},
     "output_type": "execute_result"
    }
   ],
   "source": [
    "sol.success"
   ]
  },
  {
   "cell_type": "markdown",
   "metadata": {},
   "source": [
    "Choosing the right root finding method will depend on the nature of the problem at hand. The list of all the methods accessible through `root` can be found [here](https://docs.scipy.org/doc/scipy/reference/generated/scipy.optimize.root.html#scipy.optimize.root)."
   ]
  },
  {
   "cell_type": "markdown",
   "metadata": {},
   "source": [
    "The function `root` can also be used to solve systems of linear and non-linear equations:\n",
    "$$\n",
    "\\begin{align}\n",
    "x^2 + y^2 &= 3\n",
    "\\\\\n",
    "x - 3\\log{y} &= 1\n",
    "\\end{align}\n",
    "$$\n",
    "\n",
    "For that, we have to write the equations passed to the root-finding solver in the form $f(x,y) = 0$:"
   ]
  },
  {
   "cell_type": "code",
   "execution_count": 69,
   "metadata": {},
   "outputs": [],
   "source": [
    "def g(x):\n",
    "    return [x[0]**2 + x[1]**2 - 3, x[0] - 3*np.log(x[1]) -1]"
   ]
  },
  {
   "cell_type": "code",
   "execution_count": 70,
   "metadata": {},
   "outputs": [
    {
     "data": {
      "text/plain": [
       "array([1.3257028 , 1.11468026])"
      ]
     },
     "execution_count": 70,
     "metadata": {},
     "output_type": "execute_result"
    }
   ],
   "source": [
    "sol = root(g,[1,1],method='lm')\n",
    "\n",
    "sol.x"
   ]
  },
  {
   "cell_type": "markdown",
   "metadata": {},
   "source": [
    "### Optimization"
   ]
  },
  {
   "cell_type": "markdown",
   "metadata": {},
   "source": [
    "`scipy.optimize` includes a number of the most common optimization algorithms (also called solvers or routines) used to find the extrema of a user-defined objective function. Fortunately, Scipy offers a standardized interface or \"wrapper\" to use those solvers called `minimize`. The list of algorithms available through `minimize` can be found [here](https://docs.scipy.org/doc/scipy/reference/generated/scipy.optimize.minimize.html#scipy.optimize.minimize).\n",
    "\n",
    "Notice that most optimization solvers, including the ones in Scipy, allow to only minimize the objective function. However, this is not an issue since maximizing $f$ is equivalent to minimizing $-f$."
   ]
  },
  {
   "cell_type": "markdown",
   "metadata": {},
   "source": [
    "#### Unconstrained Optimization"
   ]
  },
  {
   "cell_type": "markdown",
   "metadata": {},
   "source": [
    "We want to minimize the following function:\n",
    "$$\n",
    "f(x) = 4x^3 + (x -2)^2 + x^4\n",
    "$$"
   ]
  },
  {
   "cell_type": "code",
   "execution_count": 71,
   "metadata": {},
   "outputs": [],
   "source": [
    "def f(x):\n",
    "    \n",
    "    return 4 * x ** 3 + (x-2) ** 2 + x ** 4"
   ]
  },
  {
   "cell_type": "markdown",
   "metadata": {},
   "source": [
    "Again, we plot the function and see how it behaves:"
   ]
  },
  {
   "cell_type": "code",
   "execution_count": 72,
   "metadata": {},
   "outputs": [
    {
     "data": {
      "application/javascript": [
       "/* Put everything inside the global mpl namespace */\n",
       "window.mpl = {};\n",
       "\n",
       "\n",
       "mpl.get_websocket_type = function() {\n",
       "    if (typeof(WebSocket) !== 'undefined') {\n",
       "        return WebSocket;\n",
       "    } else if (typeof(MozWebSocket) !== 'undefined') {\n",
       "        return MozWebSocket;\n",
       "    } else {\n",
       "        alert('Your browser does not have WebSocket support.' +\n",
       "              'Please try Chrome, Safari or Firefox ≥ 6. ' +\n",
       "              'Firefox 4 and 5 are also supported but you ' +\n",
       "              'have to enable WebSockets in about:config.');\n",
       "    };\n",
       "}\n",
       "\n",
       "mpl.figure = function(figure_id, websocket, ondownload, parent_element) {\n",
       "    this.id = figure_id;\n",
       "\n",
       "    this.ws = websocket;\n",
       "\n",
       "    this.supports_binary = (this.ws.binaryType != undefined);\n",
       "\n",
       "    if (!this.supports_binary) {\n",
       "        var warnings = document.getElementById(\"mpl-warnings\");\n",
       "        if (warnings) {\n",
       "            warnings.style.display = 'block';\n",
       "            warnings.textContent = (\n",
       "                \"This browser does not support binary websocket messages. \" +\n",
       "                    \"Performance may be slow.\");\n",
       "        }\n",
       "    }\n",
       "\n",
       "    this.imageObj = new Image();\n",
       "\n",
       "    this.context = undefined;\n",
       "    this.message = undefined;\n",
       "    this.canvas = undefined;\n",
       "    this.rubberband_canvas = undefined;\n",
       "    this.rubberband_context = undefined;\n",
       "    this.format_dropdown = undefined;\n",
       "\n",
       "    this.image_mode = 'full';\n",
       "\n",
       "    this.root = $('<div/>');\n",
       "    this._root_extra_style(this.root)\n",
       "    this.root.attr('style', 'display: inline-block');\n",
       "\n",
       "    $(parent_element).append(this.root);\n",
       "\n",
       "    this._init_header(this);\n",
       "    this._init_canvas(this);\n",
       "    this._init_toolbar(this);\n",
       "\n",
       "    var fig = this;\n",
       "\n",
       "    this.waiting = false;\n",
       "\n",
       "    this.ws.onopen =  function () {\n",
       "            fig.send_message(\"supports_binary\", {value: fig.supports_binary});\n",
       "            fig.send_message(\"send_image_mode\", {});\n",
       "            if (mpl.ratio != 1) {\n",
       "                fig.send_message(\"set_dpi_ratio\", {'dpi_ratio': mpl.ratio});\n",
       "            }\n",
       "            fig.send_message(\"refresh\", {});\n",
       "        }\n",
       "\n",
       "    this.imageObj.onload = function() {\n",
       "            if (fig.image_mode == 'full') {\n",
       "                // Full images could contain transparency (where diff images\n",
       "                // almost always do), so we need to clear the canvas so that\n",
       "                // there is no ghosting.\n",
       "                fig.context.clearRect(0, 0, fig.canvas.width, fig.canvas.height);\n",
       "            }\n",
       "            fig.context.drawImage(fig.imageObj, 0, 0);\n",
       "        };\n",
       "\n",
       "    this.imageObj.onunload = function() {\n",
       "        fig.ws.close();\n",
       "    }\n",
       "\n",
       "    this.ws.onmessage = this._make_on_message_function(this);\n",
       "\n",
       "    this.ondownload = ondownload;\n",
       "}\n",
       "\n",
       "mpl.figure.prototype._init_header = function() {\n",
       "    var titlebar = $(\n",
       "        '<div class=\"ui-dialog-titlebar ui-widget-header ui-corner-all ' +\n",
       "        'ui-helper-clearfix\"/>');\n",
       "    var titletext = $(\n",
       "        '<div class=\"ui-dialog-title\" style=\"width: 100%; ' +\n",
       "        'text-align: center; padding: 3px;\"/>');\n",
       "    titlebar.append(titletext)\n",
       "    this.root.append(titlebar);\n",
       "    this.header = titletext[0];\n",
       "}\n",
       "\n",
       "\n",
       "\n",
       "mpl.figure.prototype._canvas_extra_style = function(canvas_div) {\n",
       "\n",
       "}\n",
       "\n",
       "\n",
       "mpl.figure.prototype._root_extra_style = function(canvas_div) {\n",
       "\n",
       "}\n",
       "\n",
       "mpl.figure.prototype._init_canvas = function() {\n",
       "    var fig = this;\n",
       "\n",
       "    var canvas_div = $('<div/>');\n",
       "\n",
       "    canvas_div.attr('style', 'position: relative; clear: both; outline: 0');\n",
       "\n",
       "    function canvas_keyboard_event(event) {\n",
       "        return fig.key_event(event, event['data']);\n",
       "    }\n",
       "\n",
       "    canvas_div.keydown('key_press', canvas_keyboard_event);\n",
       "    canvas_div.keyup('key_release', canvas_keyboard_event);\n",
       "    this.canvas_div = canvas_div\n",
       "    this._canvas_extra_style(canvas_div)\n",
       "    this.root.append(canvas_div);\n",
       "\n",
       "    var canvas = $('<canvas/>');\n",
       "    canvas.addClass('mpl-canvas');\n",
       "    canvas.attr('style', \"left: 0; top: 0; z-index: 0; outline: 0\")\n",
       "\n",
       "    this.canvas = canvas[0];\n",
       "    this.context = canvas[0].getContext(\"2d\");\n",
       "\n",
       "    var backingStore = this.context.backingStorePixelRatio ||\n",
       "\tthis.context.webkitBackingStorePixelRatio ||\n",
       "\tthis.context.mozBackingStorePixelRatio ||\n",
       "\tthis.context.msBackingStorePixelRatio ||\n",
       "\tthis.context.oBackingStorePixelRatio ||\n",
       "\tthis.context.backingStorePixelRatio || 1;\n",
       "\n",
       "    mpl.ratio = (window.devicePixelRatio || 1) / backingStore;\n",
       "\n",
       "    var rubberband = $('<canvas/>');\n",
       "    rubberband.attr('style', \"position: absolute; left: 0; top: 0; z-index: 1;\")\n",
       "\n",
       "    var pass_mouse_events = true;\n",
       "\n",
       "    canvas_div.resizable({\n",
       "        start: function(event, ui) {\n",
       "            pass_mouse_events = false;\n",
       "        },\n",
       "        resize: function(event, ui) {\n",
       "            fig.request_resize(ui.size.width, ui.size.height);\n",
       "        },\n",
       "        stop: function(event, ui) {\n",
       "            pass_mouse_events = true;\n",
       "            fig.request_resize(ui.size.width, ui.size.height);\n",
       "        },\n",
       "    });\n",
       "\n",
       "    function mouse_event_fn(event) {\n",
       "        if (pass_mouse_events)\n",
       "            return fig.mouse_event(event, event['data']);\n",
       "    }\n",
       "\n",
       "    rubberband.mousedown('button_press', mouse_event_fn);\n",
       "    rubberband.mouseup('button_release', mouse_event_fn);\n",
       "    // Throttle sequential mouse events to 1 every 20ms.\n",
       "    rubberband.mousemove('motion_notify', mouse_event_fn);\n",
       "\n",
       "    rubberband.mouseenter('figure_enter', mouse_event_fn);\n",
       "    rubberband.mouseleave('figure_leave', mouse_event_fn);\n",
       "\n",
       "    canvas_div.on(\"wheel\", function (event) {\n",
       "        event = event.originalEvent;\n",
       "        event['data'] = 'scroll'\n",
       "        if (event.deltaY < 0) {\n",
       "            event.step = 1;\n",
       "        } else {\n",
       "            event.step = -1;\n",
       "        }\n",
       "        mouse_event_fn(event);\n",
       "    });\n",
       "\n",
       "    canvas_div.append(canvas);\n",
       "    canvas_div.append(rubberband);\n",
       "\n",
       "    this.rubberband = rubberband;\n",
       "    this.rubberband_canvas = rubberband[0];\n",
       "    this.rubberband_context = rubberband[0].getContext(\"2d\");\n",
       "    this.rubberband_context.strokeStyle = \"#000000\";\n",
       "\n",
       "    this._resize_canvas = function(width, height) {\n",
       "        // Keep the size of the canvas, canvas container, and rubber band\n",
       "        // canvas in synch.\n",
       "        canvas_div.css('width', width)\n",
       "        canvas_div.css('height', height)\n",
       "\n",
       "        canvas.attr('width', width * mpl.ratio);\n",
       "        canvas.attr('height', height * mpl.ratio);\n",
       "        canvas.attr('style', 'width: ' + width + 'px; height: ' + height + 'px;');\n",
       "\n",
       "        rubberband.attr('width', width);\n",
       "        rubberband.attr('height', height);\n",
       "    }\n",
       "\n",
       "    // Set the figure to an initial 600x600px, this will subsequently be updated\n",
       "    // upon first draw.\n",
       "    this._resize_canvas(600, 600);\n",
       "\n",
       "    // Disable right mouse context menu.\n",
       "    $(this.rubberband_canvas).bind(\"contextmenu\",function(e){\n",
       "        return false;\n",
       "    });\n",
       "\n",
       "    function set_focus () {\n",
       "        canvas.focus();\n",
       "        canvas_div.focus();\n",
       "    }\n",
       "\n",
       "    window.setTimeout(set_focus, 100);\n",
       "}\n",
       "\n",
       "mpl.figure.prototype._init_toolbar = function() {\n",
       "    var fig = this;\n",
       "\n",
       "    var nav_element = $('<div/>')\n",
       "    nav_element.attr('style', 'width: 100%');\n",
       "    this.root.append(nav_element);\n",
       "\n",
       "    // Define a callback function for later on.\n",
       "    function toolbar_event(event) {\n",
       "        return fig.toolbar_button_onclick(event['data']);\n",
       "    }\n",
       "    function toolbar_mouse_event(event) {\n",
       "        return fig.toolbar_button_onmouseover(event['data']);\n",
       "    }\n",
       "\n",
       "    for(var toolbar_ind in mpl.toolbar_items) {\n",
       "        var name = mpl.toolbar_items[toolbar_ind][0];\n",
       "        var tooltip = mpl.toolbar_items[toolbar_ind][1];\n",
       "        var image = mpl.toolbar_items[toolbar_ind][2];\n",
       "        var method_name = mpl.toolbar_items[toolbar_ind][3];\n",
       "\n",
       "        if (!name) {\n",
       "            // put a spacer in here.\n",
       "            continue;\n",
       "        }\n",
       "        var button = $('<button/>');\n",
       "        button.addClass('ui-button ui-widget ui-state-default ui-corner-all ' +\n",
       "                        'ui-button-icon-only');\n",
       "        button.attr('role', 'button');\n",
       "        button.attr('aria-disabled', 'false');\n",
       "        button.click(method_name, toolbar_event);\n",
       "        button.mouseover(tooltip, toolbar_mouse_event);\n",
       "\n",
       "        var icon_img = $('<span/>');\n",
       "        icon_img.addClass('ui-button-icon-primary ui-icon');\n",
       "        icon_img.addClass(image);\n",
       "        icon_img.addClass('ui-corner-all');\n",
       "\n",
       "        var tooltip_span = $('<span/>');\n",
       "        tooltip_span.addClass('ui-button-text');\n",
       "        tooltip_span.html(tooltip);\n",
       "\n",
       "        button.append(icon_img);\n",
       "        button.append(tooltip_span);\n",
       "\n",
       "        nav_element.append(button);\n",
       "    }\n",
       "\n",
       "    var fmt_picker_span = $('<span/>');\n",
       "\n",
       "    var fmt_picker = $('<select/>');\n",
       "    fmt_picker.addClass('mpl-toolbar-option ui-widget ui-widget-content');\n",
       "    fmt_picker_span.append(fmt_picker);\n",
       "    nav_element.append(fmt_picker_span);\n",
       "    this.format_dropdown = fmt_picker[0];\n",
       "\n",
       "    for (var ind in mpl.extensions) {\n",
       "        var fmt = mpl.extensions[ind];\n",
       "        var option = $(\n",
       "            '<option/>', {selected: fmt === mpl.default_extension}).html(fmt);\n",
       "        fmt_picker.append(option)\n",
       "    }\n",
       "\n",
       "    // Add hover states to the ui-buttons\n",
       "    $( \".ui-button\" ).hover(\n",
       "        function() { $(this).addClass(\"ui-state-hover\");},\n",
       "        function() { $(this).removeClass(\"ui-state-hover\");}\n",
       "    );\n",
       "\n",
       "    var status_bar = $('<span class=\"mpl-message\"/>');\n",
       "    nav_element.append(status_bar);\n",
       "    this.message = status_bar[0];\n",
       "}\n",
       "\n",
       "mpl.figure.prototype.request_resize = function(x_pixels, y_pixels) {\n",
       "    // Request matplotlib to resize the figure. Matplotlib will then trigger a resize in the client,\n",
       "    // which will in turn request a refresh of the image.\n",
       "    this.send_message('resize', {'width': x_pixels, 'height': y_pixels});\n",
       "}\n",
       "\n",
       "mpl.figure.prototype.send_message = function(type, properties) {\n",
       "    properties['type'] = type;\n",
       "    properties['figure_id'] = this.id;\n",
       "    this.ws.send(JSON.stringify(properties));\n",
       "}\n",
       "\n",
       "mpl.figure.prototype.send_draw_message = function() {\n",
       "    if (!this.waiting) {\n",
       "        this.waiting = true;\n",
       "        this.ws.send(JSON.stringify({type: \"draw\", figure_id: this.id}));\n",
       "    }\n",
       "}\n",
       "\n",
       "\n",
       "mpl.figure.prototype.handle_save = function(fig, msg) {\n",
       "    var format_dropdown = fig.format_dropdown;\n",
       "    var format = format_dropdown.options[format_dropdown.selectedIndex].value;\n",
       "    fig.ondownload(fig, format);\n",
       "}\n",
       "\n",
       "\n",
       "mpl.figure.prototype.handle_resize = function(fig, msg) {\n",
       "    var size = msg['size'];\n",
       "    if (size[0] != fig.canvas.width || size[1] != fig.canvas.height) {\n",
       "        fig._resize_canvas(size[0], size[1]);\n",
       "        fig.send_message(\"refresh\", {});\n",
       "    };\n",
       "}\n",
       "\n",
       "mpl.figure.prototype.handle_rubberband = function(fig, msg) {\n",
       "    var x0 = msg['x0'] / mpl.ratio;\n",
       "    var y0 = (fig.canvas.height - msg['y0']) / mpl.ratio;\n",
       "    var x1 = msg['x1'] / mpl.ratio;\n",
       "    var y1 = (fig.canvas.height - msg['y1']) / mpl.ratio;\n",
       "    x0 = Math.floor(x0) + 0.5;\n",
       "    y0 = Math.floor(y0) + 0.5;\n",
       "    x1 = Math.floor(x1) + 0.5;\n",
       "    y1 = Math.floor(y1) + 0.5;\n",
       "    var min_x = Math.min(x0, x1);\n",
       "    var min_y = Math.min(y0, y1);\n",
       "    var width = Math.abs(x1 - x0);\n",
       "    var height = Math.abs(y1 - y0);\n",
       "\n",
       "    fig.rubberband_context.clearRect(\n",
       "        0, 0, fig.canvas.width, fig.canvas.height);\n",
       "\n",
       "    fig.rubberband_context.strokeRect(min_x, min_y, width, height);\n",
       "}\n",
       "\n",
       "mpl.figure.prototype.handle_figure_label = function(fig, msg) {\n",
       "    // Updates the figure title.\n",
       "    fig.header.textContent = msg['label'];\n",
       "}\n",
       "\n",
       "mpl.figure.prototype.handle_cursor = function(fig, msg) {\n",
       "    var cursor = msg['cursor'];\n",
       "    switch(cursor)\n",
       "    {\n",
       "    case 0:\n",
       "        cursor = 'pointer';\n",
       "        break;\n",
       "    case 1:\n",
       "        cursor = 'default';\n",
       "        break;\n",
       "    case 2:\n",
       "        cursor = 'crosshair';\n",
       "        break;\n",
       "    case 3:\n",
       "        cursor = 'move';\n",
       "        break;\n",
       "    }\n",
       "    fig.rubberband_canvas.style.cursor = cursor;\n",
       "}\n",
       "\n",
       "mpl.figure.prototype.handle_message = function(fig, msg) {\n",
       "    fig.message.textContent = msg['message'];\n",
       "}\n",
       "\n",
       "mpl.figure.prototype.handle_draw = function(fig, msg) {\n",
       "    // Request the server to send over a new figure.\n",
       "    fig.send_draw_message();\n",
       "}\n",
       "\n",
       "mpl.figure.prototype.handle_image_mode = function(fig, msg) {\n",
       "    fig.image_mode = msg['mode'];\n",
       "}\n",
       "\n",
       "mpl.figure.prototype.updated_canvas_event = function() {\n",
       "    // Called whenever the canvas gets updated.\n",
       "    this.send_message(\"ack\", {});\n",
       "}\n",
       "\n",
       "// A function to construct a web socket function for onmessage handling.\n",
       "// Called in the figure constructor.\n",
       "mpl.figure.prototype._make_on_message_function = function(fig) {\n",
       "    return function socket_on_message(evt) {\n",
       "        if (evt.data instanceof Blob) {\n",
       "            /* FIXME: We get \"Resource interpreted as Image but\n",
       "             * transferred with MIME type text/plain:\" errors on\n",
       "             * Chrome.  But how to set the MIME type?  It doesn't seem\n",
       "             * to be part of the websocket stream */\n",
       "            evt.data.type = \"image/png\";\n",
       "\n",
       "            /* Free the memory for the previous frames */\n",
       "            if (fig.imageObj.src) {\n",
       "                (window.URL || window.webkitURL).revokeObjectURL(\n",
       "                    fig.imageObj.src);\n",
       "            }\n",
       "\n",
       "            fig.imageObj.src = (window.URL || window.webkitURL).createObjectURL(\n",
       "                evt.data);\n",
       "            fig.updated_canvas_event();\n",
       "            fig.waiting = false;\n",
       "            return;\n",
       "        }\n",
       "        else if (typeof evt.data === 'string' && evt.data.slice(0, 21) == \"data:image/png;base64\") {\n",
       "            fig.imageObj.src = evt.data;\n",
       "            fig.updated_canvas_event();\n",
       "            fig.waiting = false;\n",
       "            return;\n",
       "        }\n",
       "\n",
       "        var msg = JSON.parse(evt.data);\n",
       "        var msg_type = msg['type'];\n",
       "\n",
       "        // Call the  \"handle_{type}\" callback, which takes\n",
       "        // the figure and JSON message as its only arguments.\n",
       "        try {\n",
       "            var callback = fig[\"handle_\" + msg_type];\n",
       "        } catch (e) {\n",
       "            console.log(\"No handler for the '\" + msg_type + \"' message type: \", msg);\n",
       "            return;\n",
       "        }\n",
       "\n",
       "        if (callback) {\n",
       "            try {\n",
       "                // console.log(\"Handling '\" + msg_type + \"' message: \", msg);\n",
       "                callback(fig, msg);\n",
       "            } catch (e) {\n",
       "                console.log(\"Exception inside the 'handler_\" + msg_type + \"' callback:\", e, e.stack, msg);\n",
       "            }\n",
       "        }\n",
       "    };\n",
       "}\n",
       "\n",
       "// from http://stackoverflow.com/questions/1114465/getting-mouse-location-in-canvas\n",
       "mpl.findpos = function(e) {\n",
       "    //this section is from http://www.quirksmode.org/js/events_properties.html\n",
       "    var targ;\n",
       "    if (!e)\n",
       "        e = window.event;\n",
       "    if (e.target)\n",
       "        targ = e.target;\n",
       "    else if (e.srcElement)\n",
       "        targ = e.srcElement;\n",
       "    if (targ.nodeType == 3) // defeat Safari bug\n",
       "        targ = targ.parentNode;\n",
       "\n",
       "    // jQuery normalizes the pageX and pageY\n",
       "    // pageX,Y are the mouse positions relative to the document\n",
       "    // offset() returns the position of the element relative to the document\n",
       "    var x = e.pageX - $(targ).offset().left;\n",
       "    var y = e.pageY - $(targ).offset().top;\n",
       "\n",
       "    return {\"x\": x, \"y\": y};\n",
       "};\n",
       "\n",
       "/*\n",
       " * return a copy of an object with only non-object keys\n",
       " * we need this to avoid circular references\n",
       " * http://stackoverflow.com/a/24161582/3208463\n",
       " */\n",
       "function simpleKeys (original) {\n",
       "  return Object.keys(original).reduce(function (obj, key) {\n",
       "    if (typeof original[key] !== 'object')\n",
       "        obj[key] = original[key]\n",
       "    return obj;\n",
       "  }, {});\n",
       "}\n",
       "\n",
       "mpl.figure.prototype.mouse_event = function(event, name) {\n",
       "    var canvas_pos = mpl.findpos(event)\n",
       "\n",
       "    if (name === 'button_press')\n",
       "    {\n",
       "        this.canvas.focus();\n",
       "        this.canvas_div.focus();\n",
       "    }\n",
       "\n",
       "    var x = canvas_pos.x * mpl.ratio;\n",
       "    var y = canvas_pos.y * mpl.ratio;\n",
       "\n",
       "    this.send_message(name, {x: x, y: y, button: event.button,\n",
       "                             step: event.step,\n",
       "                             guiEvent: simpleKeys(event)});\n",
       "\n",
       "    /* This prevents the web browser from automatically changing to\n",
       "     * the text insertion cursor when the button is pressed.  We want\n",
       "     * to control all of the cursor setting manually through the\n",
       "     * 'cursor' event from matplotlib */\n",
       "    event.preventDefault();\n",
       "    return false;\n",
       "}\n",
       "\n",
       "mpl.figure.prototype._key_event_extra = function(event, name) {\n",
       "    // Handle any extra behaviour associated with a key event\n",
       "}\n",
       "\n",
       "mpl.figure.prototype.key_event = function(event, name) {\n",
       "\n",
       "    // Prevent repeat events\n",
       "    if (name == 'key_press')\n",
       "    {\n",
       "        if (event.which === this._key)\n",
       "            return;\n",
       "        else\n",
       "            this._key = event.which;\n",
       "    }\n",
       "    if (name == 'key_release')\n",
       "        this._key = null;\n",
       "\n",
       "    var value = '';\n",
       "    if (event.ctrlKey && event.which != 17)\n",
       "        value += \"ctrl+\";\n",
       "    if (event.altKey && event.which != 18)\n",
       "        value += \"alt+\";\n",
       "    if (event.shiftKey && event.which != 16)\n",
       "        value += \"shift+\";\n",
       "\n",
       "    value += 'k';\n",
       "    value += event.which.toString();\n",
       "\n",
       "    this._key_event_extra(event, name);\n",
       "\n",
       "    this.send_message(name, {key: value,\n",
       "                             guiEvent: simpleKeys(event)});\n",
       "    return false;\n",
       "}\n",
       "\n",
       "mpl.figure.prototype.toolbar_button_onclick = function(name) {\n",
       "    if (name == 'download') {\n",
       "        this.handle_save(this, null);\n",
       "    } else {\n",
       "        this.send_message(\"toolbar_button\", {name: name});\n",
       "    }\n",
       "};\n",
       "\n",
       "mpl.figure.prototype.toolbar_button_onmouseover = function(tooltip) {\n",
       "    this.message.textContent = tooltip;\n",
       "};\n",
       "mpl.toolbar_items = [[\"Home\", \"Reset original view\", \"fa fa-home icon-home\", \"home\"], [\"Back\", \"Back to previous view\", \"fa fa-arrow-left icon-arrow-left\", \"back\"], [\"Forward\", \"Forward to next view\", \"fa fa-arrow-right icon-arrow-right\", \"forward\"], [\"\", \"\", \"\", \"\"], [\"Pan\", \"Pan axes with left mouse, zoom with right\", \"fa fa-arrows icon-move\", \"pan\"], [\"Zoom\", \"Zoom to rectangle\", \"fa fa-square-o icon-check-empty\", \"zoom\"], [\"\", \"\", \"\", \"\"], [\"Download\", \"Download plot\", \"fa fa-floppy-o icon-save\", \"download\"]];\n",
       "\n",
       "mpl.extensions = [\"eps\", \"jpeg\", \"pdf\", \"png\", \"ps\", \"raw\", \"svg\", \"tif\"];\n",
       "\n",
       "mpl.default_extension = \"png\";var comm_websocket_adapter = function(comm) {\n",
       "    // Create a \"websocket\"-like object which calls the given IPython comm\n",
       "    // object with the appropriate methods. Currently this is a non binary\n",
       "    // socket, so there is still some room for performance tuning.\n",
       "    var ws = {};\n",
       "\n",
       "    ws.close = function() {\n",
       "        comm.close()\n",
       "    };\n",
       "    ws.send = function(m) {\n",
       "        //console.log('sending', m);\n",
       "        comm.send(m);\n",
       "    };\n",
       "    // Register the callback with on_msg.\n",
       "    comm.on_msg(function(msg) {\n",
       "        //console.log('receiving', msg['content']['data'], msg);\n",
       "        // Pass the mpl event to the overridden (by mpl) onmessage function.\n",
       "        ws.onmessage(msg['content']['data'])\n",
       "    });\n",
       "    return ws;\n",
       "}\n",
       "\n",
       "mpl.mpl_figure_comm = function(comm, msg) {\n",
       "    // This is the function which gets called when the mpl process\n",
       "    // starts-up an IPython Comm through the \"matplotlib\" channel.\n",
       "\n",
       "    var id = msg.content.data.id;\n",
       "    // Get hold of the div created by the display call when the Comm\n",
       "    // socket was opened in Python.\n",
       "    var element = $(\"#\" + id);\n",
       "    var ws_proxy = comm_websocket_adapter(comm)\n",
       "\n",
       "    function ondownload(figure, format) {\n",
       "        window.open(figure.imageObj.src);\n",
       "    }\n",
       "\n",
       "    var fig = new mpl.figure(id, ws_proxy,\n",
       "                           ondownload,\n",
       "                           element.get(0));\n",
       "\n",
       "    // Call onopen now - mpl needs it, as it is assuming we've passed it a real\n",
       "    // web socket which is closed, not our websocket->open comm proxy.\n",
       "    ws_proxy.onopen();\n",
       "\n",
       "    fig.parent_element = element.get(0);\n",
       "    fig.cell_info = mpl.find_output_cell(\"<div id='\" + id + \"'></div>\");\n",
       "    if (!fig.cell_info) {\n",
       "        console.error(\"Failed to find cell for figure\", id, fig);\n",
       "        return;\n",
       "    }\n",
       "\n",
       "    var output_index = fig.cell_info[2]\n",
       "    var cell = fig.cell_info[0];\n",
       "\n",
       "};\n",
       "\n",
       "mpl.figure.prototype.handle_close = function(fig, msg) {\n",
       "    var width = fig.canvas.width/mpl.ratio\n",
       "    fig.root.unbind('remove')\n",
       "\n",
       "    // Update the output cell to use the data from the current canvas.\n",
       "    fig.push_to_output();\n",
       "    var dataURL = fig.canvas.toDataURL();\n",
       "    // Re-enable the keyboard manager in IPython - without this line, in FF,\n",
       "    // the notebook keyboard shortcuts fail.\n",
       "    IPython.keyboard_manager.enable()\n",
       "    $(fig.parent_element).html('<img src=\"' + dataURL + '\" width=\"' + width + '\">');\n",
       "    fig.close_ws(fig, msg);\n",
       "}\n",
       "\n",
       "mpl.figure.prototype.close_ws = function(fig, msg){\n",
       "    fig.send_message('closing', msg);\n",
       "    // fig.ws.close()\n",
       "}\n",
       "\n",
       "mpl.figure.prototype.push_to_output = function(remove_interactive) {\n",
       "    // Turn the data on the canvas into data in the output cell.\n",
       "    var width = this.canvas.width/mpl.ratio\n",
       "    var dataURL = this.canvas.toDataURL();\n",
       "    this.cell_info[1]['text/html'] = '<img src=\"' + dataURL + '\" width=\"' + width + '\">';\n",
       "}\n",
       "\n",
       "mpl.figure.prototype.updated_canvas_event = function() {\n",
       "    // Tell IPython that the notebook contents must change.\n",
       "    IPython.notebook.set_dirty(true);\n",
       "    this.send_message(\"ack\", {});\n",
       "    var fig = this;\n",
       "    // Wait a second, then push the new image to the DOM so\n",
       "    // that it is saved nicely (might be nice to debounce this).\n",
       "    setTimeout(function () { fig.push_to_output() }, 1000);\n",
       "}\n",
       "\n",
       "mpl.figure.prototype._init_toolbar = function() {\n",
       "    var fig = this;\n",
       "\n",
       "    var nav_element = $('<div/>')\n",
       "    nav_element.attr('style', 'width: 100%');\n",
       "    this.root.append(nav_element);\n",
       "\n",
       "    // Define a callback function for later on.\n",
       "    function toolbar_event(event) {\n",
       "        return fig.toolbar_button_onclick(event['data']);\n",
       "    }\n",
       "    function toolbar_mouse_event(event) {\n",
       "        return fig.toolbar_button_onmouseover(event['data']);\n",
       "    }\n",
       "\n",
       "    for(var toolbar_ind in mpl.toolbar_items){\n",
       "        var name = mpl.toolbar_items[toolbar_ind][0];\n",
       "        var tooltip = mpl.toolbar_items[toolbar_ind][1];\n",
       "        var image = mpl.toolbar_items[toolbar_ind][2];\n",
       "        var method_name = mpl.toolbar_items[toolbar_ind][3];\n",
       "\n",
       "        if (!name) { continue; };\n",
       "\n",
       "        var button = $('<button class=\"btn btn-default\" href=\"#\" title=\"' + name + '\"><i class=\"fa ' + image + ' fa-lg\"></i></button>');\n",
       "        button.click(method_name, toolbar_event);\n",
       "        button.mouseover(tooltip, toolbar_mouse_event);\n",
       "        nav_element.append(button);\n",
       "    }\n",
       "\n",
       "    // Add the status bar.\n",
       "    var status_bar = $('<span class=\"mpl-message\" style=\"text-align:right; float: right;\"/>');\n",
       "    nav_element.append(status_bar);\n",
       "    this.message = status_bar[0];\n",
       "\n",
       "    // Add the close button to the window.\n",
       "    var buttongrp = $('<div class=\"btn-group inline pull-right\"></div>');\n",
       "    var button = $('<button class=\"btn btn-mini btn-primary\" href=\"#\" title=\"Stop Interaction\"><i class=\"fa fa-power-off icon-remove icon-large\"></i></button>');\n",
       "    button.click(function (evt) { fig.handle_close(fig, {}); } );\n",
       "    button.mouseover('Stop Interaction', toolbar_mouse_event);\n",
       "    buttongrp.append(button);\n",
       "    var titlebar = this.root.find($('.ui-dialog-titlebar'));\n",
       "    titlebar.prepend(buttongrp);\n",
       "}\n",
       "\n",
       "mpl.figure.prototype._root_extra_style = function(el){\n",
       "    var fig = this\n",
       "    el.on(\"remove\", function(){\n",
       "\tfig.close_ws(fig, {});\n",
       "    });\n",
       "}\n",
       "\n",
       "mpl.figure.prototype._canvas_extra_style = function(el){\n",
       "    // this is important to make the div 'focusable\n",
       "    el.attr('tabindex', 0)\n",
       "    // reach out to IPython and tell the keyboard manager to turn it's self\n",
       "    // off when our div gets focus\n",
       "\n",
       "    // location in version 3\n",
       "    if (IPython.notebook.keyboard_manager) {\n",
       "        IPython.notebook.keyboard_manager.register_events(el);\n",
       "    }\n",
       "    else {\n",
       "        // location in version 2\n",
       "        IPython.keyboard_manager.register_events(el);\n",
       "    }\n",
       "\n",
       "}\n",
       "\n",
       "mpl.figure.prototype._key_event_extra = function(event, name) {\n",
       "    var manager = IPython.notebook.keyboard_manager;\n",
       "    if (!manager)\n",
       "        manager = IPython.keyboard_manager;\n",
       "\n",
       "    // Check for shift+enter\n",
       "    if (event.shiftKey && event.which == 13) {\n",
       "        this.canvas_div.blur();\n",
       "        event.shiftKey = false;\n",
       "        // Send a \"J\" for go to next cell\n",
       "        event.which = 74;\n",
       "        event.keyCode = 74;\n",
       "        manager.command_mode();\n",
       "        manager.handle_keydown(event);\n",
       "    }\n",
       "}\n",
       "\n",
       "mpl.figure.prototype.handle_save = function(fig, msg) {\n",
       "    fig.ondownload(fig, null);\n",
       "}\n",
       "\n",
       "\n",
       "mpl.find_output_cell = function(html_output) {\n",
       "    // Return the cell and output element which can be found *uniquely* in the notebook.\n",
       "    // Note - this is a bit hacky, but it is done because the \"notebook_saving.Notebook\"\n",
       "    // IPython event is triggered only after the cells have been serialised, which for\n",
       "    // our purposes (turning an active figure into a static one), is too late.\n",
       "    var cells = IPython.notebook.get_cells();\n",
       "    var ncells = cells.length;\n",
       "    for (var i=0; i<ncells; i++) {\n",
       "        var cell = cells[i];\n",
       "        if (cell.cell_type === 'code'){\n",
       "            for (var j=0; j<cell.output_area.outputs.length; j++) {\n",
       "                var data = cell.output_area.outputs[j];\n",
       "                if (data.data) {\n",
       "                    // IPython >= 3 moved mimebundle to data attribute of output\n",
       "                    data = data.data;\n",
       "                }\n",
       "                if (data['text/html'] == html_output) {\n",
       "                    return [cell, data, j];\n",
       "                }\n",
       "            }\n",
       "        }\n",
       "    }\n",
       "}\n",
       "\n",
       "// Register the function which deals with the matplotlib target/channel.\n",
       "// The kernel may be null if the page has been refreshed.\n",
       "if (IPython.notebook.kernel != null) {\n",
       "    IPython.notebook.kernel.comm_manager.register_target('matplotlib', mpl.mpl_figure_comm);\n",
       "}\n"
      ],
      "text/plain": [
       "<IPython.core.display.Javascript object>"
      ]
     },
     "metadata": {},
     "output_type": "display_data"
    },
    {
     "data": {
      "text/html": [
       "<img src=\"data:image/png;base64,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\" width=\"900\">"
      ],
      "text/plain": [
       "<IPython.core.display.HTML object>"
      ]
     },
     "metadata": {},
     "output_type": "display_data"
    }
   ],
   "source": [
    "x = np.linspace(-4, 2, 100)\n",
    "\n",
    "plt.figure(figsize=(9,6))\n",
    "plt.plot(x, f(x))\n",
    "plt.show()"
   ]
  },
  {
   "cell_type": "markdown",
   "metadata": {},
   "source": [
    "As you can see, the function has two local minima of which one is global. Depending on the solver we choose and the initial guess we provide, the solver may or may not get \"stuck\" at the local minimum:"
   ]
  },
  {
   "cell_type": "code",
   "execution_count": 73,
   "metadata": {},
   "outputs": [
    {
     "data": {
      "text/plain": [
       "array([0.46962891])"
      ]
     },
     "execution_count": 73,
     "metadata": {},
     "output_type": "execute_result"
    }
   ],
   "source": [
    "from scipy.optimize import minimize\n",
    "\n",
    "sol = minimize(f, x0=2, method='Nelder-Mead')\n",
    "\n",
    "sol.x"
   ]
  },
  {
   "cell_type": "code",
   "execution_count": 74,
   "metadata": {},
   "outputs": [
    {
     "data": {
      "text/plain": [
       "array([-2.67298166])"
      ]
     },
     "execution_count": 74,
     "metadata": {},
     "output_type": "execute_result"
    }
   ],
   "source": [
    "sol = minimize(f, x0=2, method='CG')\n",
    "\n",
    "sol.x"
   ]
  },
  {
   "cell_type": "markdown",
   "metadata": {},
   "source": [
    "If we don’t know the neighborhood of the global minimum to choose the initial point, we need to resort to costlier\n",
    "global optimization methods. To find the global minimum, the simplest algorithm is the brute force algorithm `brute`, in which the function is evaluated on each point of a given grid. We can also provide a `finish` optimizer which will take the solution of `brute` as an initial guess and try to “polish” it, i.e. seek a more precise (local) minimum near the gridpoint returned by `brute`:"
   ]
  },
  {
   "cell_type": "code",
   "execution_count": 75,
   "metadata": {},
   "outputs": [
    {
     "data": {
      "text/plain": [
       "-2.736842105263158"
      ]
     },
     "execution_count": 75,
     "metadata": {},
     "output_type": "execute_result"
    }
   ],
   "source": [
    "from scipy.optimize import brute\n",
    "\n",
    "r = (-4,2)\n",
    "\n",
    "sol_global = brute(f,ranges=(r,),finish=None)\n",
    "\n",
    "sol_global"
   ]
  },
  {
   "cell_type": "code",
   "execution_count": 76,
   "metadata": {},
   "outputs": [
    {
     "data": {
      "text/plain": [
       "array([-2.67298164])"
      ]
     },
     "execution_count": 76,
     "metadata": {},
     "output_type": "execute_result"
    }
   ],
   "source": [
    "sol_global = brute(f,ranges=(r,),finish=minimize)\n",
    "\n",
    "sol_global"
   ]
  },
  {
   "cell_type": "markdown",
   "metadata": {},
   "source": [
    "#### Constrained Optimization"
   ]
  },
  {
   "cell_type": "markdown",
   "metadata": {},
   "source": [
    "We consider the following maximization problem:\n",
    "$$\n",
    "\\max_{x,y} \\, \\, 3xy - x^3\n",
    "$$\n",
    "subject to the following constraints:\n",
    "$$\n",
    "\\begin{align}\n",
    "2x - y &= -5\n",
    "\\\\\n",
    "5x + 2y &\\geq 37\n",
    "\\\\\n",
    "x &\\geq 0\n",
    "\\\\\n",
    "y &\\geq 0\n",
    "\\end{align}\n",
    "$$\n",
    "\n",
    "To solve this problem we use `minimize` with the method SLSQP which accepts both equality and inequality constraints as well as interval bounds on the choice variables:"
   ]
  },
  {
   "cell_type": "code",
   "execution_count": 77,
   "metadata": {},
   "outputs": [],
   "source": [
    "def g(x):\n",
    "    \n",
    "    return - (3 * x[0] * x[1] - x[0] ** 3)"
   ]
  },
  {
   "cell_type": "markdown",
   "metadata": {},
   "source": [
    "The constraints are defined as a sequence of dictionaries, with keys `type`, `fun` and `jac`. The constraints can be passed as normal or `lambda` functions. \n",
    "\n",
    "Bounds for the choice variables $x$ (only for L-BFGS-B, TNC and SLSQP) have to be defined as (min, max) pairs for each element in $x$. You can use `None` or `np.inf` for one of min or max when there is no bound in that direction.\n",
    "\n",
    "Method-specific options such as the maximum number of iterations or convergence criteria can be supplied through the `options` dict."
   ]
  },
  {
   "cell_type": "code",
   "execution_count": 78,
   "metadata": {},
   "outputs": [
    {
     "name": "stdout",
     "output_type": "stream",
     "text": [
      "Optimization terminated successfully.    (Exit mode 0)\n",
      "            Current function value: -100.0\n",
      "            Iterations: 8\n",
      "            Function evaluations: 33\n",
      "            Gradient evaluations: 8\n"
     ]
    },
    {
     "data": {
      "text/plain": [
       "array([ 5.00000001, 15.00000003])"
      ]
     },
     "execution_count": 78,
     "metadata": {},
     "output_type": "execute_result"
    }
   ],
   "source": [
    "from scipy.optimize import minimize\n",
    "\n",
    "cons = ({'type': 'eq', 'fun': lambda x: 2*x[0] - x[1] + 5}, \n",
    "        {'type': 'ineq', 'fun': lambda x: 5*x[0] + 2*x[1] -37})\n",
    "\n",
    "bnd = [(0, np.inf),(0,np.inf)]\n",
    "\n",
    "sol = minimize(g, x0=[0, 0], method='SLSQP', constraints=cons,  bounds=bnd, options={'disp': True,'ftol': 1e-10})\n",
    "\n",
    "sol.x"
   ]
  },
  {
   "cell_type": "markdown",
   "metadata": {},
   "source": [
    "Note that when writing the objective function you must take into account that only its first argument is considered a choice variable. The remaining arguments are considered parameters which must be declared as such to the optimization routine. We will see this in the next tutorial."
   ]
  }
 ],
 "metadata": {
  "anaconda-cloud": {},
  "kernelspec": {
   "display_name": "Python 3",
   "language": "python",
   "name": "python3"
  },
  "language_info": {
   "codemirror_mode": {
    "name": "ipython",
    "version": 3
   },
   "file_extension": ".py",
   "mimetype": "text/x-python",
   "name": "python",
   "nbconvert_exporter": "python",
   "pygments_lexer": "ipython3",
   "version": "3.7.4"
  }
 },
 "nbformat": 4,
 "nbformat_minor": 4
}
