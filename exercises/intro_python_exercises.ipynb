{
 "cells": [
  {
   "cell_type": "markdown",
   "metadata": {},
   "source": [
    "# Introduction to Python for Scientific Computing - Exercises"
   ]
  },
  {
   "cell_type": "markdown",
   "metadata": {},
   "source": [
    "In this notebook we provide several exercises to apply the notions we learned during the first two tutorials. You are supposed to go through this tutorials as a preparation for the graded Python assignment you will receive by the end of the semester."
   ]
  },
  {
   "cell_type": "markdown",
   "metadata": {},
   "source": [
    "## Exercise 1"
   ]
  },
  {
   "cell_type": "markdown",
   "metadata": {},
   "source": [
    "Write a code that approximates $\\pi$ by computing the sum:\n",
    "$$\n",
    "\\pi \\sim 4 \\sum_{k=0}^n \\frac{(-1)^k}{2 k +1}\n",
    "$$\n",
    "\n",
    "Compute the approximation error for different values of n (e.g. 100, 1'000, 10'000) by comparing the result with the Python $\\pi$ function."
   ]
  },
  {
   "cell_type": "code",
   "execution_count": null,
   "metadata": {
    "collapsed": true
   },
   "outputs": [],
   "source": []
  },
  {
   "cell_type": "markdown",
   "metadata": {},
   "source": [
    "## Exercise 2"
   ]
  },
  {
   "cell_type": "markdown",
   "metadata": {},
   "source": [
    "Consider the polynomial:\n",
    "$$\n",
    "p(x) = a_0 + a_1 x + a_2 x^2 + ... + a_n x^n = \\sum_{k=0}^n a_k x^k\n",
    "$$\n",
    "\n",
    "Write a **function** `p(x, coeff)` that takes $x$ and a list of coefficients $\\{a_0, a_1,...,a_n\\}$ as inputs and returns the value $p(x)$ defined above.\n",
    "\n",
    "Hint: you can use the function `enumerate()`."
   ]
  },
  {
   "cell_type": "code",
   "execution_count": null,
   "metadata": {
    "collapsed": true
   },
   "outputs": [],
   "source": []
  },
  {
   "cell_type": "markdown",
   "metadata": {},
   "source": [
    "## Exercise 3"
   ]
  },
  {
   "cell_type": "markdown",
   "metadata": {},
   "source": [
    "Create a Numpy array $A$ whose elements are the first 1'000 integers in backward order i.e. `A[0] = 999; A[1] = 998;` etc. \n",
    "\n",
    "Now, by slicing $A$ create an array $B$ such that\n",
    "* its first elements corresponds to the elements of $A$ ranging from 2 to 500 with an increment of 5\n",
    "* its last elements corresponds to all the other elements of $A$ (i.e. 501 onward) except for the last one."
   ]
  },
  {
   "cell_type": "code",
   "execution_count": null,
   "metadata": {},
   "outputs": [],
   "source": []
  },
  {
   "cell_type": "markdown",
   "metadata": {},
   "source": [
    "## Exercise 4"
   ]
  },
  {
   "cell_type": "markdown",
   "metadata": {},
   "source": [
    "How can you simplify the following nested conditional statements?"
   ]
  },
  {
   "cell_type": "code",
   "execution_count": null,
   "metadata": {},
   "outputs": [],
   "source": [
    "a = np.random.randn()\n",
    "\n",
    "if a > -0.5:\n",
    "    if a < 0.5:\n",
    "        print(\"Got it\")\n",
    "    else:\n",
    "        print(\"Lost it\")\n",
    "else:\n",
    "    print(\"Lost it\")"
   ]
  },
  {
   "cell_type": "code",
   "execution_count": null,
   "metadata": {
    "collapsed": true
   },
   "outputs": [],
   "source": []
  },
  {
   "cell_type": "markdown",
   "metadata": {},
   "source": [
    "## Exercise 5"
   ]
  },
  {
   "cell_type": "markdown",
   "metadata": {},
   "source": [
    "Write a nested `for` loop to visit all elements of the following nested list:"
   ]
  },
  {
   "cell_type": "code",
   "execution_count": null,
   "metadata": {},
   "outputs": [],
   "source": [
    "l = [[\"a\", \"b\", \"c\"], [\"d\", \"e\", \"f\"], [\"g\", \"h\"]]"
   ]
  },
  {
   "cell_type": "code",
   "execution_count": null,
   "metadata": {
    "collapsed": true
   },
   "outputs": [],
   "source": []
  },
  {
   "cell_type": "markdown",
   "metadata": {},
   "source": [
    "## Exercise 6"
   ]
  },
  {
   "cell_type": "markdown",
   "metadata": {},
   "source": [
    "Rewrite the nested list comprehension `q` by using standard `for` loops instead:"
   ]
  },
  {
   "cell_type": "code",
   "execution_count": null,
   "metadata": {
    "collapsed": true
   },
   "outputs": [],
   "source": [
    "l = [r**2 for r in [10**i for i in range(5)]]"
   ]
  },
  {
   "cell_type": "code",
   "execution_count": null,
   "metadata": {
    "collapsed": true
   },
   "outputs": [],
   "source": []
  },
  {
   "cell_type": "markdown",
   "metadata": {},
   "source": [
    "## Exercise 7"
   ]
  },
  {
   "cell_type": "markdown",
   "metadata": {},
   "source": [
    "Create a function that takes as arguments a 1d array $x$ and parameters $\\mu$ and $\\sigma$ and returns the corresponding values of the one-dimensional Gaussian distribution function $g(x)$: \n",
    "$$\n",
    "g(x) = \\frac{1}{\\sigma \\sqrt{2 \\pi}} \\exp \\left(- \\frac{(x-\\mu)^2}{2\\sigma^2} \\right)\n",
    "$$\n",
    "\n",
    "Use a loop to plot $g(x)$ for different values of $\\mu$ and $\\sigma$ on the same figure."
   ]
  },
  {
   "cell_type": "code",
   "execution_count": null,
   "metadata": {
    "collapsed": true
   },
   "outputs": [],
   "source": []
  }
 ],
 "metadata": {
  "kernelspec": {
   "display_name": "Python [conda root]",
   "language": "python",
   "name": "conda-root-py"
  },
  "language_info": {
   "codemirror_mode": {
    "name": "ipython",
    "version": 3
   },
   "file_extension": ".py",
   "mimetype": "text/x-python",
   "name": "python",
   "nbconvert_exporter": "python",
   "pygments_lexer": "ipython3",
   "version": "3.5.3"
  }
 },
 "nbformat": 4,
 "nbformat_minor": 2
}
